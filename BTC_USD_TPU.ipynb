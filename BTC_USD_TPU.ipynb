{
  "nbformat": 4,
  "nbformat_minor": 0,
  "metadata": {
    "colab": {
      "name": "BTC_USD_TPU",
      "version": "0.3.2",
      "provenance": [],
      "collapsed_sections": []
    },
    "kernelspec": {
      "name": "python2",
      "display_name": "Python 2"
    },
    "accelerator": "TPU"
  },
  "cells": [
    {
      "metadata": {
        "id": "9zoiEmlE1Z6a",
        "colab_type": "code",
        "colab": {}
      },
      "cell_type": "code",
      "source": [
        "import tensorflow as tf\n",
        "import tensorflow_hub as hub\n",
        "import matplotlib.pyplot as plt\n",
        "import numpy as np\n",
        "import os\n",
        "import pandas as pd\n",
        "import re\n",
        "import seaborn as sns\n",
        "import keras.layers as layers\n",
        "from keras.models import Model\n",
        "from keras import backend as K\n",
        "np.random.seed(10)\n"
      ],
      "execution_count": 0,
      "outputs": []
    },
    {
      "metadata": {
        "id": "UjtVX4BjxrP9",
        "colab_type": "code",
        "colab": {}
      },
      "cell_type": "code",
      "source": [
        "import tensorflow as tf"
      ],
      "execution_count": 0,
      "outputs": []
    },
    {
      "metadata": {
        "id": "eAcpGTm72x_L",
        "colab_type": "code",
        "colab": {}
      },
      "cell_type": "code",
      "source": [
        "module_url = \"https://tfhub.dev/google/universal-sentence-encoder-large/3\""
      ],
      "execution_count": 0,
      "outputs": []
    },
    {
      "metadata": {
        "id": "29cT1o6m297T",
        "colab_type": "code",
        "colab": {
          "base_uri": "https://localhost:8080/",
          "height": 329
        },
        "outputId": "17382b15-badb-414d-bc60-5903c82b9380"
      },
      "cell_type": "code",
      "source": [
        "embed = hub.Module(module_url)\n",
        "\n",
        "# Compute a representation for each message, showing various lengths supported.\n",
        "word = \"Elephant\"\n",
        "sentence = \"I am a sentence for which I would like to get its embedding.\"\n",
        "paragraph = (\n",
        "    \"Universal Sentence Encoder embeddings also support short paragraphs. \"\n",
        "    \"There is no hard limit on how long the paragraph is. Roughly, the longer \"\n",
        "    \"the more 'diluted' the embedding will be.\")\n",
        "messages = [word, sentence, paragraph]\n",
        "\n",
        "# Reduce logging output.\n",
        "#tf.logging.set_verbosity(tf.logging.ERROR)\n",
        "\n",
        "with tf.Session() as session:\n",
        "  session.run([tf.global_variables_initializer(), tf.tables_initializer()])\n",
        "  message_embeddings = session.run(embed(messages))\n",
        "\n",
        "  for i, message_embedding in enumerate(np.array(message_embeddings).tolist()):\n",
        "    print(\"Message: {}\".format(messages[i]))\n",
        "    print(\"Embedding size: {}\".format(len(message_embedding)))\n",
        "    message_embedding_snippet = \", \".join(\n",
        "        (str(x) for x in message_embedding[:3]))\n",
        "    print(\"Embedding: [{}, ...]\\n\".format(message_embedding_snippet))"
      ],
      "execution_count": 4,
      "outputs": [
        {
          "output_type": "stream",
          "text": [
            "INFO:tensorflow:Using /tmp/tfhub_modules to cache modules.\n",
            "INFO:tensorflow:Downloading TF-Hub Module 'https://tfhub.dev/google/universal-sentence-encoder-large/3'.\n",
            "INFO:tensorflow:Downloaded TF-Hub Module 'https://tfhub.dev/google/universal-sentence-encoder-large/3'.\n",
            "INFO:tensorflow:Saver not created because there are no variables in the graph to restore\n",
            "Message: Elephant\n",
            "Embedding size: 512\n",
            "Embedding: [0.0449847355485, -0.0574339441955, 0.00221146922559, ...]\n",
            "\n",
            "Message: I am a sentence for which I would like to get its embedding.\n",
            "Embedding size: 512\n",
            "Embedding: [0.0556801855564, -0.0096079222858, 0.0062462859787, ...]\n",
            "\n",
            "Message: Universal Sentence Encoder embeddings also support short paragraphs. There is no hard limit on how long the paragraph is. Roughly, the longer the more 'diluted' the embedding will be.\n",
            "Embedding size: 512\n",
            "Embedding: [0.0387493856251, 0.0765201449394, -0.000794580671936, ...]\n",
            "\n"
          ],
          "name": "stdout"
        }
      ]
    },
    {
      "metadata": {
        "id": "UoAqsixl3BLG",
        "colab_type": "code",
        "colab": {}
      },
      "cell_type": "code",
      "source": [
        "def plot_similarity(labels, features, rotation):\n",
        "  corr = np.inner(features, features)\n",
        "  sns.set(font_scale=1.2)\n",
        "  g = sns.heatmap(\n",
        "      corr,\n",
        "      xticklabels=labels,\n",
        "      yticklabels=labels,\n",
        "      vmin=0,\n",
        "      vmax=1,\n",
        "      cmap=\"YlOrRd\")\n",
        "  g.set_xticklabels(labels, rotation=rotation)\n",
        "  g.set_title(\"Semantic Textual Similarity\")\n",
        "\n",
        "\n",
        "def run_and_plot(session_, input_tensor_, messages_, encoding_tensor):\n",
        "  message_embeddings_ = session_.run(\n",
        "      encoding_tensor, feed_dict={input_tensor_: messages_})\n",
        "  #plot_similarity(messages_, message_embeddings_, 90)"
      ],
      "execution_count": 0,
      "outputs": []
    },
    {
      "metadata": {
        "id": "bYgnek743LA5",
        "colab_type": "code",
        "colab": {}
      },
      "cell_type": "code",
      "source": [
        "messages = [\n",
        "    # Smartphones\n",
        "#    \"OnePlus CEO Pete Lau details 'Screen Unlock' feature on OnePlus 6T\",\n",
        "#    \"Truecaller launches chat feature to curb spread of fake news\",\n",
        "#    \"Cell phone users across the US receive 'Presidential Alert'\",\n",
        "\n",
        "    # Sports\n",
        "    \"Neymar scores hat-trick in PSG's 6-1 win; Messi nets 2 for Barca\",\n",
        "    \"Only 10% tickets sold for the 1st Test between India, Windies\",\n",
        "    \"18-year-old Shaw youngest India to score century on Test debut\",\n",
        "    \n",
        "    #Entertainment\n",
        "    \"Sylvester Stallone reveals his look from 'Rambo 5'\",\n",
        "    \"What she speaks about is definitely reality: Kajol on Tanushree row\",\n",
        "    \"SRK came down to Lungi Dance as I stopped singing for him: Abhijeet\"\n",
        "    \n",
        "\n",
        "    # Asking about age\n",
        "#    \"Look in mirror to find oil price rise culprit: Putin to Trump\",\n",
        "#    \"US ends 1955 treaty with Iran over world court's decision\",\n",
        "#    \"Be large-hearted, take other parties along: Akhilesh to Cong\",\n",
        "#    \"Will never beg the US to lift sanctions: North Korea\",\n",
        "#    \"Madhya Pradesh CM announces INR 100-crore startup fund\",\n",
        "#    \"Cong MP Digvijaya Singh a BJP agent, scared of ED, CBI: Mayawati\"\n",
        "]*500\n",
        "\n"
      ],
      "execution_count": 0,
      "outputs": []
    },
    {
      "metadata": {
        "id": "vxD4Fj3W3PPx",
        "colab_type": "code",
        "colab": {
          "base_uri": "https://localhost:8080/",
          "height": 51
        },
        "outputId": "366690e9-d51b-46ce-b77d-e71c215da6f1"
      },
      "cell_type": "code",
      "source": [
        "import time\n",
        "start = time.time()\n",
        "\n",
        "similarity_input_placeholder = tf.placeholder(tf.string, shape=(None))\n",
        "similarity_message_encodings = embed(similarity_input_placeholder)\n",
        "with tf.Session() as session:\n",
        "  session.run(tf.global_variables_initializer())\n",
        "  session.run(tf.tables_initializer())\n",
        "  run_and_plot(session, similarity_input_placeholder, messages,\n",
        "               similarity_message_encodings)\n",
        "  \n",
        "end = time.time()\n",
        "print(end - start)"
      ],
      "execution_count": 14,
      "outputs": [
        {
          "output_type": "stream",
          "text": [
            "INFO:tensorflow:Saver not created because there are no variables in the graph to restore\n",
            "50.520460844\n"
          ],
          "name": "stdout"
        }
      ]
    },
    {
      "metadata": {
        "id": "las9gYV-4Z8W",
        "colab_type": "code",
        "colab": {
          "base_uri": "https://localhost:8080/",
          "height": 34
        },
        "outputId": "d395e8ae-0308-44f5-8729-005e94815b83"
      },
      "cell_type": "code",
      "source": [
        "import json\n",
        "import pandas as pd\n",
        "from datetime import datetime\n",
        "import matplotlib.pyplot as plt\n",
        "import numpy as np\n",
        "from operator import add\n",
        "\n",
        "np.random.seed(0)\n",
        "from keras.models import Model\n",
        "from keras.layers import Dense, Input, Dropout, LSTM, Activation\n",
        "from keras.layers.embeddings import Embedding\n",
        "from keras.preprocessing import sequence\n",
        "from keras.initializers import glorot_uniform\n",
        "np.random.seed(1)"
      ],
      "execution_count": 1,
      "outputs": [
        {
          "output_type": "stream",
          "text": [
            "Using TensorFlow backend.\n"
          ],
          "name": "stderr"
        }
      ]
    },
    {
      "metadata": {
        "id": "foj5oiAi_4EY",
        "colab_type": "code",
        "colab": {
          "base_uri": "https://localhost:8080/",
          "height": 164
        },
        "outputId": "68bfb2d0-6611-4b47-8d36-5871c261f618"
      },
      "cell_type": "code",
      "source": [
        "json_data=open('BC_USDT_30min').read()"
      ],
      "execution_count": 2,
      "outputs": [
        {
          "output_type": "error",
          "ename": "IOError",
          "evalue": "ignored",
          "traceback": [
            "\u001b[0;31m\u001b[0m",
            "\u001b[0;31mIOError\u001b[0mTraceback (most recent call last)",
            "\u001b[0;32m<ipython-input-2-bcc0ec5c262e>\u001b[0m in \u001b[0;36m<module>\u001b[0;34m()\u001b[0m\n\u001b[0;32m----> 1\u001b[0;31m \u001b[0mjson_data\u001b[0m\u001b[0;34m=\u001b[0m\u001b[0mopen\u001b[0m\u001b[0;34m(\u001b[0m\u001b[0;34m'BC_USDT_30min'\u001b[0m\u001b[0;34m)\u001b[0m\u001b[0;34m.\u001b[0m\u001b[0mread\u001b[0m\u001b[0;34m(\u001b[0m\u001b[0;34m)\u001b[0m\u001b[0;34m\u001b[0m\u001b[0m\n\u001b[0m",
            "\u001b[0;31mIOError\u001b[0m: [Errno 2] No such file or directory: 'BC_USDT_30min'"
          ]
        }
      ]
    },
    {
      "metadata": {
        "id": "yO3A6x20_-xf",
        "colab_type": "code",
        "colab": {
          "base_uri": "https://localhost:8080/",
          "height": 442
        },
        "outputId": "08fd9ff5-5a0c-40d0-b5d0-8d356262ebae"
      },
      "cell_type": "code",
      "source": [
        "from os import listdir\n",
        "import os\n",
        "print os.getcwd()\n",
        "listdir(\"/\")"
      ],
      "execution_count": 24,
      "outputs": [
        {
          "output_type": "stream",
          "text": [
            "/content\n"
          ],
          "name": "stdout"
        },
        {
          "output_type": "execute_result",
          "data": {
            "text/plain": [
              "['usr',\n",
              " 'lib',\n",
              " 'var',\n",
              " 'root',\n",
              " 'boot',\n",
              " 'sbin',\n",
              " 'bin',\n",
              " 'srv',\n",
              " 'run',\n",
              " 'home',\n",
              " 'sys',\n",
              " 'mnt',\n",
              " 'dev',\n",
              " 'media',\n",
              " 'proc',\n",
              " 'etc',\n",
              " 'tmp',\n",
              " 'lib64',\n",
              " 'opt',\n",
              " '.dockerenv',\n",
              " 'datalab',\n",
              " 'tools',\n",
              " 'content',\n",
              " 'colabtools']"
            ]
          },
          "metadata": {
            "tags": []
          },
          "execution_count": 24
        }
      ]
    },
    {
      "metadata": {
        "id": "Rt8wc7G5AxPI",
        "colab_type": "code",
        "colab": {
          "base_uri": "https://localhost:8080/",
          "height": 171
        },
        "outputId": "002d0e6a-f010-444b-ec7c-394e7f131535"
      },
      "cell_type": "code",
      "source": [
        "from google.colab import drive\n",
        "drive.mount('/content/gdrive')"
      ],
      "execution_count": 25,
      "outputs": [
        {
          "output_type": "stream",
          "text": [
            "Go to this URL in a browser: https://accounts.google.com/o/oauth2/auth?client_id=947318989803-6bn6qk8qdgf4n4g3pfee6491hc0brc4i.apps.googleusercontent.com&redirect_uri=urn%3Aietf%3Awg%3Aoauth%3A2.0%3Aoob&scope=email%20https%3A%2F%2Fwww.googleapis.com%2Fauth%2Fdocs.test%20https%3A%2F%2Fwww.googleapis.com%2Fauth%2Fdrive%20https%3A%2F%2Fwww.googleapis.com%2Fauth%2Fdrive.photos.readonly%20https%3A%2F%2Fwww.googleapis.com%2Fauth%2Fpeopleapi.readonly&response_type=code\n",
            "\n",
            "Enter your authorization code:\n",
            "··········\n",
            "Mounted at /content/gdrive\n"
          ],
          "name": "stdout"
        }
      ]
    },
    {
      "metadata": {
        "id": "HJT3M7LhC1I7",
        "colab_type": "code",
        "colab": {
          "base_uri": "https://localhost:8080/",
          "height": 34
        },
        "outputId": "96b1c5db-84a5-4108-fd38-2330f5cd8e41"
      },
      "cell_type": "code",
      "source": [
        "listdir(\"/content/gdrive/My Drive/Colab Notebooks\")"
      ],
      "execution_count": 30,
      "outputs": [
        {
          "output_type": "execute_result",
          "data": {
            "text/plain": [
              "['Untitled0.ipynb', 'BC_USDT_30min']"
            ]
          },
          "metadata": {
            "tags": []
          },
          "execution_count": 30
        }
      ]
    },
    {
      "metadata": {
        "id": "aLpPXGY1DP1U",
        "colab_type": "code",
        "colab": {}
      },
      "cell_type": "code",
      "source": [
        "json_data=open(\"/content/gdrive/My Drive/Colab Notebooks/BC_USDT_30min\").read()"
      ],
      "execution_count": 0,
      "outputs": []
    },
    {
      "metadata": {
        "id": "h6IIMn7fDit9",
        "colab_type": "code",
        "colab": {}
      },
      "cell_type": "code",
      "source": [
        "data = json.loads(json_data)"
      ],
      "execution_count": 0,
      "outputs": []
    },
    {
      "metadata": {
        "id": "XkotZ3LRDnck",
        "colab_type": "code",
        "colab": {
          "base_uri": "https://localhost:8080/",
          "height": 153
        },
        "outputId": "9a728bce-8de7-430e-93e9-93b3622ad2f7"
      },
      "cell_type": "code",
      "source": [
        "data[0]"
      ],
      "execution_count": 5,
      "outputs": [
        {
          "output_type": "execute_result",
          "data": {
            "text/plain": [
              "{u'close': 225,\n",
              " u'date': 1424372400,\n",
              " u'high': 225,\n",
              " u'low': 225,\n",
              " u'open': 225,\n",
              " u'quoteVolume': 0.00444444,\n",
              " u'volume': 0.999999,\n",
              " u'weightedAverage': 225}"
            ]
          },
          "metadata": {
            "tags": []
          },
          "execution_count": 5
        }
      ]
    },
    {
      "metadata": {
        "id": "4gCReHZNDpBM",
        "colab_type": "code",
        "colab": {}
      },
      "cell_type": "code",
      "source": [
        "dataF = pd.DataFrame(data)"
      ],
      "execution_count": 0,
      "outputs": []
    },
    {
      "metadata": {
        "id": "Vtn05ZsoDq9E",
        "colab_type": "code",
        "colab": {
          "base_uri": "https://localhost:8080/",
          "height": 204
        },
        "outputId": "79cab644-7676-4baf-9515-0615493fb4ab"
      },
      "cell_type": "code",
      "source": [
        "dataF.head()"
      ],
      "execution_count": 7,
      "outputs": [
        {
          "output_type": "execute_result",
          "data": {
            "text/html": [
              "<div>\n",
              "<style scoped>\n",
              "    .dataframe tbody tr th:only-of-type {\n",
              "        vertical-align: middle;\n",
              "    }\n",
              "\n",
              "    .dataframe tbody tr th {\n",
              "        vertical-align: top;\n",
              "    }\n",
              "\n",
              "    .dataframe thead th {\n",
              "        text-align: right;\n",
              "    }\n",
              "</style>\n",
              "<table border=\"1\" class=\"dataframe\">\n",
              "  <thead>\n",
              "    <tr style=\"text-align: right;\">\n",
              "      <th></th>\n",
              "      <th>close</th>\n",
              "      <th>date</th>\n",
              "      <th>high</th>\n",
              "      <th>low</th>\n",
              "      <th>open</th>\n",
              "      <th>quoteVolume</th>\n",
              "      <th>volume</th>\n",
              "      <th>weightedAverage</th>\n",
              "    </tr>\n",
              "  </thead>\n",
              "  <tbody>\n",
              "    <tr>\n",
              "      <th>0</th>\n",
              "      <td>225.0</td>\n",
              "      <td>1424372400</td>\n",
              "      <td>225.0</td>\n",
              "      <td>225.0</td>\n",
              "      <td>225.0</td>\n",
              "      <td>0.004444</td>\n",
              "      <td>0.999999</td>\n",
              "      <td>225.000000</td>\n",
              "    </tr>\n",
              "    <tr>\n",
              "      <th>1</th>\n",
              "      <td>225.0</td>\n",
              "      <td>1424374200</td>\n",
              "      <td>225.0</td>\n",
              "      <td>225.0</td>\n",
              "      <td>225.0</td>\n",
              "      <td>0.000000</td>\n",
              "      <td>0.000000</td>\n",
              "      <td>225.000000</td>\n",
              "    </tr>\n",
              "    <tr>\n",
              "      <th>2</th>\n",
              "      <td>240.0</td>\n",
              "      <td>1424376000</td>\n",
              "      <td>240.0</td>\n",
              "      <td>225.0</td>\n",
              "      <td>225.0</td>\n",
              "      <td>0.128625</td>\n",
              "      <td>30.624650</td>\n",
              "      <td>238.092076</td>\n",
              "    </tr>\n",
              "    <tr>\n",
              "      <th>3</th>\n",
              "      <td>244.0</td>\n",
              "      <td>1424377800</td>\n",
              "      <td>244.0</td>\n",
              "      <td>244.0</td>\n",
              "      <td>244.0</td>\n",
              "      <td>0.060046</td>\n",
              "      <td>14.651226</td>\n",
              "      <td>244.000000</td>\n",
              "    </tr>\n",
              "    <tr>\n",
              "      <th>4</th>\n",
              "      <td>244.0</td>\n",
              "      <td>1424379600</td>\n",
              "      <td>244.0</td>\n",
              "      <td>244.0</td>\n",
              "      <td>244.0</td>\n",
              "      <td>0.000000</td>\n",
              "      <td>0.000000</td>\n",
              "      <td>244.000000</td>\n",
              "    </tr>\n",
              "  </tbody>\n",
              "</table>\n",
              "</div>"
            ],
            "text/plain": [
              "   close        date   high    low   open  quoteVolume     volume  \\\n",
              "0  225.0  1424372400  225.0  225.0  225.0     0.004444   0.999999   \n",
              "1  225.0  1424374200  225.0  225.0  225.0     0.000000   0.000000   \n",
              "2  240.0  1424376000  240.0  225.0  225.0     0.128625  30.624650   \n",
              "3  244.0  1424377800  244.0  244.0  244.0     0.060046  14.651226   \n",
              "4  244.0  1424379600  244.0  244.0  244.0     0.000000   0.000000   \n",
              "\n",
              "   weightedAverage  \n",
              "0       225.000000  \n",
              "1       225.000000  \n",
              "2       238.092076  \n",
              "3       244.000000  \n",
              "4       244.000000  "
            ]
          },
          "metadata": {
            "tags": []
          },
          "execution_count": 7
        }
      ]
    },
    {
      "metadata": {
        "id": "GPbIoi0QDstS",
        "colab_type": "code",
        "colab": {
          "base_uri": "https://localhost:8080/",
          "height": 34
        },
        "outputId": "8910b9d7-4913-4923-de23-1e91c4d6c948"
      },
      "cell_type": "code",
      "source": [
        "dataF.shape"
      ],
      "execution_count": 8,
      "outputs": [
        {
          "output_type": "execute_result",
          "data": {
            "text/plain": [
              "(61326, 8)"
            ]
          },
          "metadata": {
            "tags": []
          },
          "execution_count": 8
        }
      ]
    },
    {
      "metadata": {
        "id": "9JC-PkCUDvMI",
        "colab_type": "code",
        "colab": {
          "base_uri": "https://localhost:8080/",
          "height": 204
        },
        "outputId": "22d85338-1f00-4f21-aaf8-3c1e753d0170"
      },
      "cell_type": "code",
      "source": [
        "dataF[\"dateTime\"] = map(lambda x:datetime.utcfromtimestamp(x), dataF[\"date\"] )\n",
        "dataF.head()"
      ],
      "execution_count": 9,
      "outputs": [
        {
          "output_type": "execute_result",
          "data": {
            "text/html": [
              "<div>\n",
              "<style scoped>\n",
              "    .dataframe tbody tr th:only-of-type {\n",
              "        vertical-align: middle;\n",
              "    }\n",
              "\n",
              "    .dataframe tbody tr th {\n",
              "        vertical-align: top;\n",
              "    }\n",
              "\n",
              "    .dataframe thead th {\n",
              "        text-align: right;\n",
              "    }\n",
              "</style>\n",
              "<table border=\"1\" class=\"dataframe\">\n",
              "  <thead>\n",
              "    <tr style=\"text-align: right;\">\n",
              "      <th></th>\n",
              "      <th>close</th>\n",
              "      <th>date</th>\n",
              "      <th>high</th>\n",
              "      <th>low</th>\n",
              "      <th>open</th>\n",
              "      <th>quoteVolume</th>\n",
              "      <th>volume</th>\n",
              "      <th>weightedAverage</th>\n",
              "      <th>dateTime</th>\n",
              "    </tr>\n",
              "  </thead>\n",
              "  <tbody>\n",
              "    <tr>\n",
              "      <th>0</th>\n",
              "      <td>225.0</td>\n",
              "      <td>1424372400</td>\n",
              "      <td>225.0</td>\n",
              "      <td>225.0</td>\n",
              "      <td>225.0</td>\n",
              "      <td>0.004444</td>\n",
              "      <td>0.999999</td>\n",
              "      <td>225.000000</td>\n",
              "      <td>2015-02-19 19:00:00</td>\n",
              "    </tr>\n",
              "    <tr>\n",
              "      <th>1</th>\n",
              "      <td>225.0</td>\n",
              "      <td>1424374200</td>\n",
              "      <td>225.0</td>\n",
              "      <td>225.0</td>\n",
              "      <td>225.0</td>\n",
              "      <td>0.000000</td>\n",
              "      <td>0.000000</td>\n",
              "      <td>225.000000</td>\n",
              "      <td>2015-02-19 19:30:00</td>\n",
              "    </tr>\n",
              "    <tr>\n",
              "      <th>2</th>\n",
              "      <td>240.0</td>\n",
              "      <td>1424376000</td>\n",
              "      <td>240.0</td>\n",
              "      <td>225.0</td>\n",
              "      <td>225.0</td>\n",
              "      <td>0.128625</td>\n",
              "      <td>30.624650</td>\n",
              "      <td>238.092076</td>\n",
              "      <td>2015-02-19 20:00:00</td>\n",
              "    </tr>\n",
              "    <tr>\n",
              "      <th>3</th>\n",
              "      <td>244.0</td>\n",
              "      <td>1424377800</td>\n",
              "      <td>244.0</td>\n",
              "      <td>244.0</td>\n",
              "      <td>244.0</td>\n",
              "      <td>0.060046</td>\n",
              "      <td>14.651226</td>\n",
              "      <td>244.000000</td>\n",
              "      <td>2015-02-19 20:30:00</td>\n",
              "    </tr>\n",
              "    <tr>\n",
              "      <th>4</th>\n",
              "      <td>244.0</td>\n",
              "      <td>1424379600</td>\n",
              "      <td>244.0</td>\n",
              "      <td>244.0</td>\n",
              "      <td>244.0</td>\n",
              "      <td>0.000000</td>\n",
              "      <td>0.000000</td>\n",
              "      <td>244.000000</td>\n",
              "      <td>2015-02-19 21:00:00</td>\n",
              "    </tr>\n",
              "  </tbody>\n",
              "</table>\n",
              "</div>"
            ],
            "text/plain": [
              "   close        date   high    low   open  quoteVolume     volume  \\\n",
              "0  225.0  1424372400  225.0  225.0  225.0     0.004444   0.999999   \n",
              "1  225.0  1424374200  225.0  225.0  225.0     0.000000   0.000000   \n",
              "2  240.0  1424376000  240.0  225.0  225.0     0.128625  30.624650   \n",
              "3  244.0  1424377800  244.0  244.0  244.0     0.060046  14.651226   \n",
              "4  244.0  1424379600  244.0  244.0  244.0     0.000000   0.000000   \n",
              "\n",
              "   weightedAverage            dateTime  \n",
              "0       225.000000 2015-02-19 19:00:00  \n",
              "1       225.000000 2015-02-19 19:30:00  \n",
              "2       238.092076 2015-02-19 20:00:00  \n",
              "3       244.000000 2015-02-19 20:30:00  \n",
              "4       244.000000 2015-02-19 21:00:00  "
            ]
          },
          "metadata": {
            "tags": []
          },
          "execution_count": 9
        }
      ]
    },
    {
      "metadata": {
        "id": "aDiZ_Ue-Dw-_",
        "colab_type": "code",
        "colab": {
          "base_uri": "https://localhost:8080/",
          "height": 34
        },
        "outputId": "ce1360e6-ff55-4c0c-a4a5-366e028b2291"
      },
      "cell_type": "code",
      "source": [
        "(int(dataF['date'][-1:]) - int(dataF['date'][0:1]))/30/60 + 1"
      ],
      "execution_count": 10,
      "outputs": [
        {
          "output_type": "execute_result",
          "data": {
            "text/plain": [
              "61326"
            ]
          },
          "metadata": {
            "tags": []
          },
          "execution_count": 10
        }
      ]
    },
    {
      "metadata": {
        "id": "AIZ0S5w5DzMJ",
        "colab_type": "code",
        "colab": {
          "base_uri": "https://localhost:8080/",
          "height": 347
        },
        "outputId": "6cbfdd91-d25c-4839-c41b-0615f1d29d45"
      },
      "cell_type": "code",
      "source": [
        "fig = plt.figure()\n",
        "ax1 = fig.add_subplot(111)\n",
        "ax1.plot(dataF[\"dateTime\"][10000:], dataF[\"weightedAverage\"][10000:])\n",
        "plt.show()"
      ],
      "execution_count": 11,
      "outputs": [
        {
          "output_type": "display_data",
          "data": {
            "image/png": "[encoded data removed]",
            "text/plain": [
              "<matplotlib.figure.Figure at 0x7f3d4bffc5d0>"
            ]
          },
          "metadata": {
            "tags": []
          }
        }
      ]
    },
    {
      "metadata": {
        "id": "HcLelOyKD0zv",
        "colab_type": "code",
        "colab": {}
      },
      "cell_type": "code",
      "source": [
        "def feature_vector(dataF,num_dim, feature_list, verbose=False, vb_chunk_size = 2000):\n",
        "    num_rows = dataF.shape[0]\n",
        "    \n",
        "    if num_rows < num_dim:\n",
        "        print (\"number of rows less than the dimension expected\")\n",
        "        return 0\n",
        "    \n",
        "    num_features = len(feature_list)\n",
        "    n_C = num_features\n",
        "    n_H = num_dim\n",
        "    m = num_rows - num_dim + 1\n",
        "    dataF_array = np.ndarray([m,n_H,n_C])\n",
        "    for i in range(m):\n",
        "        if verbose:\n",
        "            if i%vb_chunk_size == 0:\n",
        "                print str(i) + \" rows completed\"\n",
        "        for j in range(n_H):\n",
        "            for k in range(n_C):\n",
        "                dataF_array[i,j,k] = dataF[feature_list[k]][i + j]\n",
        "    date_labels = dataF['date'][num_dim:]\n",
        "                \n",
        "    return dataF_array, date_labels\n",
        "    "
      ],
      "execution_count": 0,
      "outputs": []
    },
    {
      "metadata": {
        "id": "8c-c6687D3XP",
        "colab_type": "code",
        "colab": {}
      },
      "cell_type": "code",
      "source": [
        "def feature_vector(dataF,num_dim, feature_list, verbose=False, vb_chunk_size = 2000):\n",
        "    num_rows = dataF.shape[0]\n",
        "    \n",
        "    if num_rows < num_dim:\n",
        "        print (\"number of rows less than the dimension expected\")\n",
        "        return 0\n",
        "    \n",
        "    num_features = len(feature_list)\n",
        "    n_C = num_features\n",
        "    n_H = num_dim\n",
        "    m = num_rows - num_dim + 1\n",
        "    dataF_array = np.ndarray([m,n_H,n_C])\n",
        "    \n",
        "    for i in range(m):\n",
        "        \n",
        "        if verbose:\n",
        "            if i%vb_chunk_size == 0:\n",
        "                print str(i) + \" rows completed\"\n",
        "        \n",
        "        l = dataF[feature_list][i:(i+num_dim)]\n",
        "        dataF_array[i,:,:]=np.array(l)\n",
        "        \n",
        "    date_labels = dataF['date'][(num_dim-1):]\n",
        "                \n",
        "    return dataF_array, date_labels"
      ],
      "execution_count": 0,
      "outputs": []
    },
    {
      "metadata": {
        "id": "mzyDnBsRD6Qz",
        "colab_type": "code",
        "colab": {
          "base_uri": "https://localhost:8080/",
          "height": 561
        },
        "outputId": "09f38606-62b6-42f2-e22f-84db1517ec44"
      },
      "cell_type": "code",
      "source": [
        "feature_list = ['close','high','low','open','quoteVolume','volume','weightedAverage']\n",
        "num_dim = 300\n",
        "dataF_array, date_labels = feature_vector(dataF,num_dim, feature_list, verbose =True)\n",
        "\n",
        "dataF_array.shape\n",
        "\n"
      ],
      "execution_count": 14,
      "outputs": [
        {
          "output_type": "stream",
          "text": [
            "0 rows completed\n",
            "2000 rows completed\n",
            "4000 rows completed\n",
            "6000 rows completed\n",
            "8000 rows completed\n",
            "10000 rows completed\n",
            "12000 rows completed\n",
            "14000 rows completed\n",
            "16000 rows completed\n",
            "18000 rows completed\n",
            "20000 rows completed\n",
            "22000 rows completed\n",
            "24000 rows completed\n",
            "26000 rows completed\n",
            "28000 rows completed\n",
            "30000 rows completed\n",
            "32000 rows completed\n",
            "34000 rows completed\n",
            "36000 rows completed\n",
            "38000 rows completed\n",
            "40000 rows completed\n",
            "42000 rows completed\n",
            "44000 rows completed\n",
            "46000 rows completed\n",
            "48000 rows completed\n",
            "50000 rows completed\n",
            "52000 rows completed\n",
            "54000 rows completed\n",
            "56000 rows completed\n",
            "58000 rows completed\n",
            "60000 rows completed\n"
          ],
          "name": "stdout"
        },
        {
          "output_type": "execute_result",
          "data": {
            "text/plain": [
              "(61027, 300, 7)"
            ]
          },
          "metadata": {
            "tags": []
          },
          "execution_count": 14
        }
      ]
    },
    {
      "metadata": {
        "id": "G3MCDemOD8Bt",
        "colab_type": "code",
        "colab": {
          "base_uri": "https://localhost:8080/",
          "height": 34
        },
        "outputId": "76f4c109-9557-4f02-e40c-beaf180822d3"
      },
      "cell_type": "code",
      "source": [
        "date_labels.shape"
      ],
      "execution_count": 15,
      "outputs": [
        {
          "output_type": "execute_result",
          "data": {
            "text/plain": [
              "(61027,)"
            ]
          },
          "metadata": {
            "tags": []
          },
          "execution_count": 15
        }
      ]
    },
    {
      "metadata": {
        "id": "L5RFcgqwD_xh",
        "colab_type": "code",
        "colab": {
          "base_uri": "https://localhost:8080/",
          "height": 119
        },
        "outputId": "86614b7a-72c6-4e72-d228-54f29a759e9e"
      },
      "cell_type": "code",
      "source": [
        "date_labels.head()"
      ],
      "execution_count": 16,
      "outputs": [
        {
          "output_type": "execute_result",
          "data": {
            "text/plain": [
              "299    1424910600\n",
              "300    1424912400\n",
              "301    1424914200\n",
              "302    1424916000\n",
              "303    1424917800\n",
              "Name: date, dtype: int64"
            ]
          },
          "metadata": {
            "tags": []
          },
          "execution_count": 16
        }
      ]
    },
    {
      "metadata": {
        "id": "sTIXbJ0JEBqv",
        "colab_type": "code",
        "colab": {
          "base_uri": "https://localhost:8080/",
          "height": 34
        },
        "outputId": "f68ad568-701e-448c-c1be-9e61cb12804c"
      },
      "cell_type": "code",
      "source": [
        "sum(map(lambda x,y: 1 if x>1.01*y else 0, dataF['high'][10000:], dataF['open'][10000:]))"
      ],
      "execution_count": 17,
      "outputs": [
        {
          "output_type": "execute_result",
          "data": {
            "text/plain": [
              "5516"
            ]
          },
          "metadata": {
            "tags": []
          },
          "execution_count": 17
        }
      ]
    },
    {
      "metadata": {
        "id": "Po0Il4HfEEiQ",
        "colab_type": "code",
        "colab": {
          "base_uri": "https://localhost:8080/",
          "height": 34
        },
        "outputId": "80f964d8-13ae-4965-d9f1-e00e39cd6cbe"
      },
      "cell_type": "code",
      "source": [
        "sum( map(lambda x,y: 1 if x<.99*y else 0, dataF['low'][10000:], dataF['open'][10000:]) )"
      ],
      "execution_count": 18,
      "outputs": [
        {
          "output_type": "execute_result",
          "data": {
            "text/plain": [
              "5769"
            ]
          },
          "metadata": {
            "tags": []
          },
          "execution_count": 18
        }
      ]
    },
    {
      "metadata": {
        "id": "F0OaaJnCEGGu",
        "colab_type": "code",
        "colab": {
          "base_uri": "https://localhost:8080/",
          "height": 34
        },
        "outputId": "566e6d56-f122-49ee-ff21-afb211859921"
      },
      "cell_type": "code",
      "source": [
        "sum( map(lambda x,y,z: 1 if ((x<.99*y) & (z>1.01*y) ) else 0, dataF['low'][10000:], dataF['open'][10000:], dataF['high'][10000:]) )"
      ],
      "execution_count": 19,
      "outputs": [
        {
          "output_type": "execute_result",
          "data": {
            "text/plain": [
              "647"
            ]
          },
          "metadata": {
            "tags": []
          },
          "execution_count": 19
        }
      ]
    },
    {
      "metadata": {
        "id": "O7u_nvt4EH49",
        "colab_type": "code",
        "colab": {}
      },
      "cell_type": "code",
      "source": [
        "def y_labels(dataF, highThresh, lowThresh,num_dim, highCol = 'high', lowCol = 'low', openCol = 'open'):\n",
        "    ind_l = map(lambda x,y: 2 if x< (1 - lowThresh)*y else 0, dataF[lowCol], dataF[openCol]) \n",
        "    ind_h = map(lambda x,y: 1 if x> (1 + highThresh)*y else 0, dataF[highCol], dataF[openCol])\n",
        "    lables = list( map(add, ind_l, ind_h) )    \n",
        "    return lables[(num_dim-1):]"
      ],
      "execution_count": 0,
      "outputs": []
    },
    {
      "metadata": {
        "id": "aiBSTFIuEJh9",
        "colab_type": "code",
        "colab": {
          "base_uri": "https://localhost:8080/",
          "height": 51
        },
        "outputId": "11aa1f0e-ab3d-43e4-f9f9-4c3d4ea88edb"
      },
      "cell_type": "code",
      "source": [
        "yLabels = y_labels(dataF, highThresh = 0.01, lowThresh = 0.01,num_dim = num_dim, highCol = 'high', lowCol = 'low', openCol = 'open')\n",
        "print yLabels[:5]\n",
        "print len(yLabels)"
      ],
      "execution_count": 21,
      "outputs": [
        {
          "output_type": "stream",
          "text": [
            "[0, 0, 0, 0, 0]\n",
            "61027\n"
          ],
          "name": "stdout"
        }
      ]
    },
    {
      "metadata": {
        "id": "APKPNT6GELV9",
        "colab_type": "code",
        "colab": {
          "base_uri": "https://localhost:8080/",
          "height": 85
        },
        "outputId": "39ee8bae-ae2a-4d36-e1d2-3792c6d18bfa"
      },
      "cell_type": "code",
      "source": [
        "print \"number of rows with 0 class \" + str(sum([1 if x == 0 else 0 for x in yLabels[10000:]]))\n",
        "print \"number of rows with 1 class \" + str(sum([1 if x == 1 else 0 for x in yLabels[10000:]]))\n",
        "print \"number of rows with 2 class \" + str(sum([1 if x == 2 else 0 for x in yLabels[10000:]]))\n",
        "print \"number of rows with 3 class \" + str(sum([1 if x == 3 else 0 for x in yLabels[10000:]]))"
      ],
      "execution_count": 22,
      "outputs": [
        {
          "output_type": "stream",
          "text": [
            "number of rows with 0 class 40393\n",
            "number of rows with 1 class 4867\n",
            "number of rows with 2 class 5120\n",
            "number of rows with 3 class 647\n"
          ],
          "name": "stdout"
        }
      ]
    },
    {
      "metadata": {
        "id": "SW41v1rnEM2r",
        "colab_type": "code",
        "colab": {
          "base_uri": "https://localhost:8080/",
          "height": 153
        },
        "outputId": "4187e439-b758-4250-b022-c7f4b312d4da"
      },
      "cell_type": "code",
      "source": [
        "dataF_array_normalized = dataF_array.copy()\n",
        "rem_list = np.ones(dataF_array_normalized.shape[0], dtype=bool)\n",
        "for i in range(dataF_array_normalized.shape[0]):\n",
        "    if ((dataF_array_normalized[i,1,3] ==0) or (dataF_array_normalized[i,1,4] ==0) or (dataF_array_normalized[i,1,5] ==0)):\n",
        "        rem_list[i]=False\n",
        "    dataF_array_normalized[i,:,0:3] = dataF_array_normalized[i,:,0:3]/dataF_array_normalized[i,0:1,3:4]\n",
        "    dataF_array_normalized[i,:,6] = dataF_array_normalized[i,:,6]/dataF_array_normalized[i,0:1,3]\n",
        "    dataF_array_normalized[i,:,3] = dataF_array_normalized[i,:,3]/dataF_array_normalized[i,0:1,3]\n",
        "    dataF_array_normalized[i,:,4] = dataF_array_normalized[i,:,4]/dataF_array_normalized[i,0:1,4]\n",
        "    dataF_array_normalized[i,:,5] = dataF_array_normalized[i,:,5]/dataF_array_normalized[i,0:1,5]\n",
        "    if np.isnan(dataF_array_normalized[i,:,:]).any():\n",
        "        rem_list[i]=False"
      ],
      "execution_count": 23,
      "outputs": [
        {
          "output_type": "stream",
          "text": [
            "/usr/local/lib/python2.7/dist-packages/ipykernel_launcher.py:9: RuntimeWarning: divide by zero encountered in divide\n",
            "  if __name__ == '__main__':\n",
            "/usr/local/lib/python2.7/dist-packages/ipykernel_launcher.py:9: RuntimeWarning: invalid value encountered in divide\n",
            "  if __name__ == '__main__':\n",
            "/usr/local/lib/python2.7/dist-packages/ipykernel_launcher.py:10: RuntimeWarning: divide by zero encountered in divide\n",
            "  # Remove the CWD from sys.path while we load stuff.\n",
            "/usr/local/lib/python2.7/dist-packages/ipykernel_launcher.py:10: RuntimeWarning: invalid value encountered in divide\n",
            "  # Remove the CWD from sys.path while we load stuff.\n"
          ],
          "name": "stderr"
        }
      ]
    },
    {
      "metadata": {
        "id": "S7p2WWdZEOu8",
        "colab_type": "code",
        "colab": {
          "base_uri": "https://localhost:8080/",
          "height": 51
        },
        "outputId": "76d0156b-7b81-4629-b45b-1f5fcf2b2e01"
      },
      "cell_type": "code",
      "source": [
        "print len(rem_list)\n",
        "print sum(rem_list)"
      ],
      "execution_count": 24,
      "outputs": [
        {
          "output_type": "stream",
          "text": [
            "61027\n",
            "47293\n"
          ],
          "name": "stdout"
        }
      ]
    },
    {
      "metadata": {
        "id": "ai2MMt5YERo1",
        "colab_type": "code",
        "colab": {
          "base_uri": "https://localhost:8080/",
          "height": 238
        },
        "outputId": "17e23198-8b53-4d3f-b8b3-af76f544213a"
      },
      "cell_type": "code",
      "source": [
        "dataF_array_normalized[-6:-5,:,:]"
      ],
      "execution_count": 25,
      "outputs": [
        {
          "output_type": "execute_result",
          "data": {
            "text/plain": [
              "array([[[0.9733251 , 1.0022407 , 0.97316344, ..., 1.        ,\n",
              "         1.        , 0.98736556],\n",
              "        [0.96304505, 0.9733251 , 0.93032485, ..., 2.48446063,\n",
              "         2.39661837, 0.9524556 ],\n",
              "        [0.95879192, 0.96566365, 0.95784438, ..., 0.31841027,\n",
              "         0.30980378, 0.9606775 ],\n",
              "        ...,\n",
              "        [1.04579794, 1.04718612, 1.04541678, ..., 0.02239793,\n",
              "         0.02373271, 1.04620634],\n",
              "        [1.03981382, 1.04547962, 1.0381923 , ..., 0.01103812,\n",
              "         0.01163607, 1.04085224],\n",
              "        [1.04154353, 1.04154353, 1.03961982, ..., 0.03318789,\n",
              "         0.03497547, 1.04054737]]])"
            ]
          },
          "metadata": {
            "tags": []
          },
          "execution_count": 25
        }
      ]
    },
    {
      "metadata": {
        "id": "BuJsvSILETee",
        "colab_type": "code",
        "colab": {
          "base_uri": "https://localhost:8080/",
          "height": 68
        },
        "outputId": "39301743-360b-44b9-af7e-6b8f21a06fcb"
      },
      "cell_type": "code",
      "source": [
        "print sum(rem_list)\n",
        "print len(rem_list)\n",
        "print sum(rem_list[10000:])"
      ],
      "execution_count": 26,
      "outputs": [
        {
          "output_type": "stream",
          "text": [
            "47293\n",
            "61027\n",
            "46713\n"
          ],
          "name": "stdout"
        }
      ]
    },
    {
      "metadata": {
        "id": "SR7y4Gs5EVcn",
        "colab_type": "code",
        "colab": {
          "base_uri": "https://localhost:8080/",
          "height": 255
        },
        "outputId": "76bfed3e-6365-4584-f380-c86d8d3f10a5"
      },
      "cell_type": "code",
      "source": [
        "a = np.reshape(np.float_(range(24)),(2,3,4) )\n",
        "b = a.copy()\n",
        "b[:,:,:2] = np.divide(a[:,:,:2],a[:,0:1,1:2])\n",
        "print a\n",
        "print b"
      ],
      "execution_count": 27,
      "outputs": [
        {
          "output_type": "stream",
          "text": [
            "[[[ 0.  1.  2.  3.]\n",
            "  [ 4.  5.  6.  7.]\n",
            "  [ 8.  9. 10. 11.]]\n",
            "\n",
            " [[12. 13. 14. 15.]\n",
            "  [16. 17. 18. 19.]\n",
            "  [20. 21. 22. 23.]]]\n",
            "[[[ 0.          1.          2.          3.        ]\n",
            "  [ 4.          5.          6.          7.        ]\n",
            "  [ 8.          9.         10.         11.        ]]\n",
            "\n",
            " [[ 0.92307692  1.         14.         15.        ]\n",
            "  [ 1.23076923  1.30769231 18.         19.        ]\n",
            "  [ 1.53846154  1.61538462 22.         23.        ]]]\n"
          ],
          "name": "stdout"
        }
      ]
    },
    {
      "metadata": {
        "id": "h6S5QkLDEZQG",
        "colab_type": "code",
        "colab": {
          "base_uri": "https://localhost:8080/",
          "height": 51
        },
        "outputId": "3e6573a5-9871-4ced-ba53-30588f2cf30c"
      },
      "cell_type": "code",
      "source": [
        "print dataF_array_normalized.shape\n",
        "dataF_array_normalized= dataF_array_normalized[rem_list,:,:]\n",
        "print dataF_array_normalized.shape"
      ],
      "execution_count": 28,
      "outputs": [
        {
          "output_type": "stream",
          "text": [
            "(61027, 300, 7)\n",
            "(47293, 300, 7)\n"
          ],
          "name": "stdout"
        }
      ]
    },
    {
      "metadata": {
        "id": "jXZF7O53Ea6c",
        "colab_type": "code",
        "colab": {}
      },
      "cell_type": "code",
      "source": [
        "date_labels = date_labels.reset_index()"
      ],
      "execution_count": 0,
      "outputs": []
    },
    {
      "metadata": {
        "id": "VFYWn4LZEdGH",
        "colab_type": "code",
        "colab": {
          "base_uri": "https://localhost:8080/",
          "height": 204
        },
        "outputId": "f159d21e-b2c2-4974-d6e3-0e42b44a016b"
      },
      "cell_type": "code",
      "source": [
        "date_labels.head()"
      ],
      "execution_count": 30,
      "outputs": [
        {
          "output_type": "execute_result",
          "data": {
            "text/html": [
              "<div>\n",
              "<style scoped>\n",
              "    .dataframe tbody tr th:only-of-type {\n",
              "        vertical-align: middle;\n",
              "    }\n",
              "\n",
              "    .dataframe tbody tr th {\n",
              "        vertical-align: top;\n",
              "    }\n",
              "\n",
              "    .dataframe thead th {\n",
              "        text-align: right;\n",
              "    }\n",
              "</style>\n",
              "<table border=\"1\" class=\"dataframe\">\n",
              "  <thead>\n",
              "    <tr style=\"text-align: right;\">\n",
              "      <th></th>\n",
              "      <th>index</th>\n",
              "      <th>date</th>\n",
              "    </tr>\n",
              "  </thead>\n",
              "  <tbody>\n",
              "    <tr>\n",
              "      <th>0</th>\n",
              "      <td>299</td>\n",
              "      <td>1424910600</td>\n",
              "    </tr>\n",
              "    <tr>\n",
              "      <th>1</th>\n",
              "      <td>300</td>\n",
              "      <td>1424912400</td>\n",
              "    </tr>\n",
              "    <tr>\n",
              "      <th>2</th>\n",
              "      <td>301</td>\n",
              "      <td>1424914200</td>\n",
              "    </tr>\n",
              "    <tr>\n",
              "      <th>3</th>\n",
              "      <td>302</td>\n",
              "      <td>1424916000</td>\n",
              "    </tr>\n",
              "    <tr>\n",
              "      <th>4</th>\n",
              "      <td>303</td>\n",
              "      <td>1424917800</td>\n",
              "    </tr>\n",
              "  </tbody>\n",
              "</table>\n",
              "</div>"
            ],
            "text/plain": [
              "   index        date\n",
              "0    299  1424910600\n",
              "1    300  1424912400\n",
              "2    301  1424914200\n",
              "3    302  1424916000\n",
              "4    303  1424917800"
            ]
          },
          "metadata": {
            "tags": []
          },
          "execution_count": 30
        }
      ]
    },
    {
      "metadata": {
        "id": "7WxdKnrvEeh9",
        "colab_type": "code",
        "colab": {
          "base_uri": "https://localhost:8080/",
          "height": 119
        },
        "outputId": "84c25e66-e6cc-4658-b2c4-4a87e9bee50c"
      },
      "cell_type": "code",
      "source": [
        "date_labels = date_labels['date']\n",
        "date_labels.head()"
      ],
      "execution_count": 31,
      "outputs": [
        {
          "output_type": "execute_result",
          "data": {
            "text/plain": [
              "0    1424910600\n",
              "1    1424912400\n",
              "2    1424914200\n",
              "3    1424916000\n",
              "4    1424917800\n",
              "Name: date, dtype: int64"
            ]
          },
          "metadata": {
            "tags": []
          },
          "execution_count": 31
        }
      ]
    },
    {
      "metadata": {
        "id": "sMAs_YwaEgPV",
        "colab_type": "code",
        "colab": {
          "base_uri": "https://localhost:8080/",
          "height": 34
        },
        "outputId": "1b66cf62-80e1-4152-a1ea-5e2faaef47a4"
      },
      "cell_type": "code",
      "source": [
        "date_labels_filtered = date_labels[rem_list]\n",
        "date_labels_filtered.shape"
      ],
      "execution_count": 32,
      "outputs": [
        {
          "output_type": "execute_result",
          "data": {
            "text/plain": [
              "(47293,)"
            ]
          },
          "metadata": {
            "tags": []
          },
          "execution_count": 32
        }
      ]
    },
    {
      "metadata": {
        "id": "8274VTAuEhxV",
        "colab_type": "code",
        "colab": {
          "base_uri": "https://localhost:8080/",
          "height": 34
        },
        "outputId": "f204823f-3d9b-46d4-92b6-720d0f8815bc"
      },
      "cell_type": "code",
      "source": [
        "len(rem_list)\n",
        "len(yLabels)"
      ],
      "execution_count": 33,
      "outputs": [
        {
          "output_type": "execute_result",
          "data": {
            "text/plain": [
              "61027"
            ]
          },
          "metadata": {
            "tags": []
          },
          "execution_count": 33
        }
      ]
    },
    {
      "metadata": {
        "id": "XnOPEw0aEjN1",
        "colab_type": "code",
        "colab": {
          "base_uri": "https://localhost:8080/",
          "height": 34
        },
        "outputId": "1d057dc3-1419-4c37-e639-18f659baf1bb"
      },
      "cell_type": "code",
      "source": [
        "yLabels_filtered = []\n",
        "\n",
        "for m in range(len(rem_list)):\n",
        "    if rem_list[m]:\n",
        "        yLabels_filtered.append(yLabels[m])\n",
        "\n",
        "len(yLabels_filtered)\n",
        "\n"
      ],
      "execution_count": 34,
      "outputs": [
        {
          "output_type": "execute_result",
          "data": {
            "text/plain": [
              "47293"
            ]
          },
          "metadata": {
            "tags": []
          },
          "execution_count": 34
        }
      ]
    },
    {
      "metadata": {
        "id": "jq26r3HeEk11",
        "colab_type": "code",
        "colab": {}
      },
      "cell_type": "code",
      "source": [
        "def LSTM_v1(input_shape):\n",
        "    \"\"\"\n",
        "    Function creating the Emojify-v2 model's graph.\n",
        "    \n",
        "    Arguments:\n",
        "    input_shape -- shape of the input, usually (max_len,)\n",
        "    word_to_vec_map -- dictionary mapping every word in a vocabulary into its 50-dimensional vector representation\n",
        "    word_to_index -- dictionary mapping from words to their indices in the vocabulary (400,001 words)\n",
        "​\n",
        "    Returns:\n",
        "    model -- a model instance in Keras\n",
        "    \"\"\"\n",
        "    \n",
        "    ### START CODE HERE ###\n",
        "    # Define sentence_indices as the input of the graph, it should be of shape input_shape and dtype 'int32' (as it contains indices).\n",
        "    series300 = Input(shape = input_shape, dtype='float32')\n",
        "    \n",
        "    \n",
        "    # Propagate the embeddings through an LSTM layer with 128-dimensional hidden state\n",
        "    # Be careful, the returned output should be a batch of sequences.\n",
        "    X = LSTM(1024,return_sequences=True)(series300)\n",
        "    # Add dropout with a probability of 0.5\n",
        "    X = Dropout(0.5) (X)\n",
        "    # Propagate X trough another LSTM layer with 128-dimensional hidden state\n",
        "    # Be careful, the returned output should be a single hidden state, not a batch of sequences.\n",
        "    X = LSTM(1024,return_sequences=False)(X)\n",
        "    # Add dropout with a probability of 0.5\n",
        "    X = Dropout(0.5) (X)\n",
        "    # Propagate X through a Dense layer with softmax activation to get back a batch of 5-dimensional vectors.\n",
        "    X = Dense(4)(X)\n",
        "    # Add a softmax activation\n",
        "    X = Activation('softmax')(X)\n",
        "    \n",
        "    # Create Model instance which converts sentence_indices into X.\n",
        "    model = Model(inputs=series300,outputs=X)\n",
        "    \n",
        "    ### END CODE HERE ###\n",
        "    \n",
        "    return model"
      ],
      "execution_count": 0,
      "outputs": []
    },
    {
      "metadata": {
        "id": "z4OCfTIsLK82",
        "colab_type": "code",
        "colab": {
          "base_uri": "https://localhost:8080/",
          "height": 374
        },
        "outputId": "fad95e5b-55f8-409c-ab3a-25a8de6647d2"
      },
      "cell_type": "code",
      "source": [
        "model1 = LSTM_v1((num_dim,len(feature_list)))\n",
        "model1.summary()"
      ],
      "execution_count": 74,
      "outputs": [
        {
          "output_type": "stream",
          "text": [
            "_________________________________________________________________\n",
            "Layer (type)                 Output Shape              Param #   \n",
            "=================================================================\n",
            "input_3 (InputLayer)         (None, 300, 7)            0         \n",
            "_________________________________________________________________\n",
            "lstm_5 (LSTM)                (None, 300, 1024)         4227072   \n",
            "_________________________________________________________________\n",
            "dropout_3 (Dropout)          (None, 300, 1024)         0         \n",
            "_________________________________________________________________\n",
            "lstm_6 (LSTM)                (None, 1024)              8392704   \n",
            "_________________________________________________________________\n",
            "dropout_4 (Dropout)          (None, 1024)              0         \n",
            "_________________________________________________________________\n",
            "dense_2 (Dense)              (None, 4)                 4100      \n",
            "_________________________________________________________________\n",
            "activation_2 (Activation)    (None, 4)                 0         \n",
            "=================================================================\n",
            "Total params: 12,623,876\n",
            "Trainable params: 12,623,876\n",
            "Non-trainable params: 0\n",
            "_________________________________________________________________\n"
          ],
          "name": "stdout"
        }
      ]
    },
    {
      "metadata": {
        "id": "QhHm_uGHINEO",
        "colab_type": "code",
        "colab": {}
      },
      "cell_type": "code",
      "source": [
        "def LSTM_v2(input_shape2):\n",
        "\n",
        "  model = tf.keras.models.Sequential()\n",
        "  #model.add(Input(shape = input_shape, dtype='float32'))\n",
        "  model.add(tf.keras.layers.LSTM(512,return_sequences=True, input_shape=input_shape2))\n",
        "  model.add(tf.keras.layers.Dropout(0.5))\n",
        "  model.add(tf.keras.layers.LSTM(512,return_sequences=False))\n",
        "  model.add(tf.keras.layers.Dropout(0.5))\n",
        "  model.add(tf.keras.layers.Dense(4))\n",
        "  model.add(tf.keras.layers.Activation('softmax'))\n",
        "  return model"
      ],
      "execution_count": 0,
      "outputs": []
    },
    {
      "metadata": {
        "id": "_Rxq3FgxGFaM",
        "colab_type": "code",
        "colab": {
          "base_uri": "https://localhost:8080/",
          "height": 340
        },
        "outputId": "9d680357-32ee-4f72-add9-945995943f36"
      },
      "cell_type": "code",
      "source": [
        "model = LSTM_v2((num_dim,len(feature_list)))\n",
        "model.summary()"
      ],
      "execution_count": 39,
      "outputs": [
        {
          "output_type": "stream",
          "text": [
            "_________________________________________________________________\n",
            "Layer (type)                 Output Shape              Param #   \n",
            "=================================================================\n",
            "lstm (LSTM)                  (None, 300, 512)          1064960   \n",
            "_________________________________________________________________\n",
            "dropout (Dropout)            (None, 300, 512)          0         \n",
            "_________________________________________________________________\n",
            "lstm_1 (LSTM)                (None, 512)               2099200   \n",
            "_________________________________________________________________\n",
            "dropout_1 (Dropout)          (None, 512)               0         \n",
            "_________________________________________________________________\n",
            "dense (Dense)                (None, 4)                 2052      \n",
            "_________________________________________________________________\n",
            "activation (Activation)      (None, 4)                 0         \n",
            "=================================================================\n",
            "Total params: 3,166,212\n",
            "Trainable params: 3,166,212\n",
            "Non-trainable params: 0\n",
            "_________________________________________________________________\n"
          ],
          "name": "stdout"
        }
      ]
    },
    {
      "metadata": {
        "id": "wEx7gBfoGAOi",
        "colab_type": "code",
        "colab": {
          "base_uri": "https://localhost:8080/",
          "height": 403
        },
        "outputId": "26fc162a-543d-421a-f232-5146c19aa22b"
      },
      "cell_type": "code",
      "source": [
        "import os\n",
        "tpu_model = tf.contrib.tpu.keras_to_tpu_model(\n",
        "    model,\n",
        "    strategy=tf.contrib.tpu.TPUDistributionStrategy(\n",
        "        tf.contrib.cluster_resolver.TPUClusterResolver(tpu='grpc://' + os.environ['COLAB_TPU_ADDR'])\n",
        "    )\n",
        ")\n"
      ],
      "execution_count": 40,
      "outputs": [
        {
          "output_type": "stream",
          "text": [
            "INFO:tensorflow:Querying Tensorflow master (grpc://10.57.248.242:8470) for TPU system metadata.\n",
            "INFO:tensorflow:Found TPU system:\n",
            "INFO:tensorflow:*** Num TPU Cores: 8\n",
            "INFO:tensorflow:*** Num TPU Workers: 1\n",
            "INFO:tensorflow:*** Num TPU Cores Per Worker: 8\n",
            "INFO:tensorflow:*** Available Device: _DeviceAttributes(/job:worker/replica:0/task:0/device:CPU:0, CPU, -1, 9431921000775453103)\n",
            "INFO:tensorflow:*** Available Device: _DeviceAttributes(/job:worker/replica:0/task:0/device:XLA_CPU:0, XLA_CPU, 17179869184, 9968927509888080537)\n",
            "INFO:tensorflow:*** Available Device: _DeviceAttributes(/job:worker/replica:0/task:0/device:XLA_GPU:0, XLA_GPU, 17179869184, 5733900331651998598)\n",
            "INFO:tensorflow:*** Available Device: _DeviceAttributes(/job:worker/replica:0/task:0/device:TPU:0, TPU, 17179869184, 13480436926125657664)\n",
            "INFO:tensorflow:*** Available Device: _DeviceAttributes(/job:worker/replica:0/task:0/device:TPU:1, TPU, 17179869184, 17638561278459600929)\n",
            "INFO:tensorflow:*** Available Device: _DeviceAttributes(/job:worker/replica:0/task:0/device:TPU:2, TPU, 17179869184, 8490748783105549582)\n",
            "INFO:tensorflow:*** Available Device: _DeviceAttributes(/job:worker/replica:0/task:0/device:TPU:3, TPU, 17179869184, 3168670533096040031)\n",
            "INFO:tensorflow:*** Available Device: _DeviceAttributes(/job:worker/replica:0/task:0/device:TPU:4, TPU, 17179869184, 15475496519157352942)\n",
            "INFO:tensorflow:*** Available Device: _DeviceAttributes(/job:worker/replica:0/task:0/device:TPU:5, TPU, 17179869184, 792487568010380952)\n",
            "INFO:tensorflow:*** Available Device: _DeviceAttributes(/job:worker/replica:0/task:0/device:TPU:6, TPU, 17179869184, 14938187821593188049)\n",
            "INFO:tensorflow:*** Available Device: _DeviceAttributes(/job:worker/replica:0/task:0/device:TPU:7, TPU, 17179869184, 3574310988617460586)\n",
            "INFO:tensorflow:*** Available Device: _DeviceAttributes(/job:worker/replica:0/task:0/device:TPU_SYSTEM:0, TPU_SYSTEM, 17179869184, 6019619576470880693)\n",
            "WARNING:tensorflow:tpu_model (from tensorflow.contrib.tpu.python.tpu.keras_support) is experimental and may change or be removed at any time, and without warning.\n",
            "INFO:tensorflow:Connecting to: grpc://10.57.248.242:8470\n"
          ],
          "name": "stdout"
        }
      ]
    },
    {
      "metadata": {
        "id": "GE0KgSmsGlaV",
        "colab_type": "code",
        "colab": {}
      },
      "cell_type": "code",
      "source": [
        "tpu_model.compile(\n",
        "    optimizer=tf.train.AdamOptimizer(),\n",
        "    loss=tf.keras.losses.categorical_crossentropy,\n",
        "    metrics=['categorical_accuracy']\n",
        ")\n",
        "\n"
      ],
      "execution_count": 0,
      "outputs": []
    },
    {
      "metadata": {
        "id": "yxPlwq87LmWd",
        "colab_type": "code",
        "colab": {}
      },
      "cell_type": "code",
      "source": [
        "def convert_to_one_hot(Y, C):\n",
        "    Y = np.eye(C)[Y.reshape(-1)]\n",
        "    return Y"
      ],
      "execution_count": 0,
      "outputs": []
    },
    {
      "metadata": {
        "id": "sxeM5FSiLqtx",
        "colab_type": "code",
        "colab": {}
      },
      "cell_type": "code",
      "source": [
        "Y_oh = convert_to_one_hot(np.array(yLabels_filtered), C = 4)"
      ],
      "execution_count": 0,
      "outputs": []
    },
    {
      "metadata": {
        "id": "PUJ4rMYXLq4T",
        "colab_type": "code",
        "colab": {}
      },
      "cell_type": "code",
      "source": [
        "X_train = dataF_array_normalized[:-10000,:,:]\n",
        "X_test = dataF_array_normalized[-10000:,:,:]\n",
        "Y_train = Y_oh[:-10000,:]\n",
        "Y_test = Y_oh[-10000:,:]"
      ],
      "execution_count": 0,
      "outputs": []
    },
    {
      "metadata": {
        "id": "dQUPeR-HLt_F",
        "colab_type": "code",
        "colab": {
          "base_uri": "https://localhost:8080/",
          "height": 85
        },
        "outputId": "2ca8b377-a0b4-4b2f-cbc4-0fd8fa7412ca"
      },
      "cell_type": "code",
      "source": [
        "print X_train.shape\n",
        "print X_test.shape\n",
        "print Y_train.shape\n",
        "print Y_test.shape"
      ],
      "execution_count": 45,
      "outputs": [
        {
          "output_type": "stream",
          "text": [
            "(37293, 300, 7)\n",
            "(10000, 300, 7)\n",
            "(37293, 4)\n",
            "(10000, 4)\n"
          ],
          "name": "stdout"
        }
      ]
    },
    {
      "metadata": {
        "id": "dLq_age5L8M7",
        "colab_type": "code",
        "colab": {}
      },
      "cell_type": "code",
      "source": [
        "def train_gen(batch_size):\n",
        "  while True:\n",
        "    offset = np.random.randint(0, X_train.shape[0] - batch_size)\n",
        "    yield X_train[offset:offset+batch_size], Y_train[offset:offset + batch_size]\n",
        "    "
      ],
      "execution_count": 0,
      "outputs": []
    },
    {
      "metadata": {
        "id": "1HNF5u7gLuCD",
        "colab_type": "code",
        "colab": {
          "base_uri": "https://localhost:8080/",
          "height": 1020
        },
        "outputId": "ab4f77b6-56df-4738-910e-4f6411b058e2"
      },
      "cell_type": "code",
      "source": [
        "import time\n",
        "start = time.time()\n",
        "\n",
        "tpu_model.fit_generator(\n",
        "    train_gen(64),\n",
        "    epochs=5,\n",
        "    steps_per_epoch=750,\n",
        "    validation_data=(X_test, Y_test),\n",
        "    class_weight = {0:1,1:8,2:8,3:40}\n",
        ")\n",
        "\n",
        "end = time.time()\n",
        "print(end - start)"
      ],
      "execution_count": 47,
      "outputs": [
        {
          "output_type": "stream",
          "text": [
            "Epoch 1/5\n",
            "INFO:tensorflow:New input shapes; (re-)compiling: mode=train, [TensorSpec(shape=(8, 300, 7), dtype=tf.float32, name=u'lstm_input0'), TensorSpec(shape=(8, 4), dtype=tf.float32, name=u'activation_target0')]\n",
            "INFO:tensorflow:Overriding default placeholder.\n",
            "INFO:tensorflow:Remapping placeholder for lstm_input\n",
            "INFO:tensorflow:Started compiling\n",
            "INFO:tensorflow:Finished compiling. Time elapsed: 3.05730605125 secs\n",
            "INFO:tensorflow:Setting weights on TPU model.\n",
            "749/750 [============================>.] - ETA: 0s - loss: 0.7378 - categorical_accuracy: 0.7887INFO:tensorflow:New input shapes; (re-)compiling: mode=eval, [TensorSpec(shape=(8, 300, 7), dtype=tf.float32, name=u'lstm_input0'), TensorSpec(shape=(8, 4), dtype=tf.float32, name=u'activation_target0')]\n",
            "INFO:tensorflow:Overriding default placeholder.\n",
            "INFO:tensorflow:Remapping placeholder for lstm_input\n",
            "INFO:tensorflow:Started compiling\n",
            "INFO:tensorflow:Finished compiling. Time elapsed: 1.26924490929 secs\n",
            "INFO:tensorflow:New input shapes; (re-)compiling: mode=eval, [TensorSpec(shape=(2, 300, 7), dtype=tf.float32, name=u'lstm_input0'), TensorSpec(shape=(2, 4), dtype=tf.float32, name=u'activation_target0')]\n",
            "INFO:tensorflow:Overriding default placeholder.\n",
            "INFO:tensorflow:Remapping placeholder for lstm_input\n",
            "INFO:tensorflow:Started compiling\n",
            "INFO:tensorflow:Finished compiling. Time elapsed: 1.23025202751 secs\n",
            "750/750 [==============================] - 179s 239ms/step - loss: 0.7370 - categorical_accuracy: 0.7890 - val_loss: 0.6205 - val_categorical_accuracy: 0.7888\n",
            "Epoch 2/5\n",
            "750/750 [==============================] - 167s 223ms/step - loss: 0.6348 - categorical_accuracy: 0.7908 - val_loss: 0.5618 - val_categorical_accuracy: 0.7912\n",
            "Epoch 3/5\n",
            "750/750 [==============================] - 167s 223ms/step - loss: 0.6149 - categorical_accuracy: 0.7980 - val_loss: 0.5611 - val_categorical_accuracy: 0.7912\n",
            "Epoch 4/5\n",
            "750/750 [==============================] - 167s 223ms/step - loss: 0.6295 - categorical_accuracy: 0.7830 - val_loss: 0.6100 - val_categorical_accuracy: 0.7912\n",
            "Epoch 5/5\n",
            "750/750 [==============================] - 168s 223ms/step - loss: 0.6097 - categorical_accuracy: 0.7880 - val_loss: 0.5300 - val_categorical_accuracy: 0.8000\n",
            "848.463024855\n"
          ],
          "name": "stdout"
        }
      ]
    },
    {
      "metadata": {
        "id": "JOckSX7XLuHb",
        "colab_type": "code",
        "colab": {
          "base_uri": "https://localhost:8080/",
          "height": 34
        },
        "outputId": "eaf51410-63ab-416a-d257-32a8d8796716"
      },
      "cell_type": "code",
      "source": [
        "cpu_model = tpu_model.sync_to_cpu()"
      ],
      "execution_count": 48,
      "outputs": [
        {
          "output_type": "stream",
          "text": [
            "INFO:tensorflow:Copying TPU weights to the CPU\n"
          ],
          "name": "stdout"
        }
      ]
    },
    {
      "metadata": {
        "id": "FA_cS2TOLuFK",
        "colab_type": "code",
        "colab": {
          "base_uri": "https://localhost:8080/",
          "height": 136
        },
        "outputId": "23485c08-b262-4ee7-a07f-0173280bae00"
      },
      "cell_type": "code",
      "source": [
        "pred = cpu_model.predict(X_test)\n",
        "pred"
      ],
      "execution_count": 49,
      "outputs": [
        {
          "output_type": "execute_result",
          "data": {
            "text/plain": [
              "array([[0.8069461 , 0.093747  , 0.09157184, 0.00773503],\n",
              "       [0.7178025 , 0.12849414, 0.13930707, 0.01439622],\n",
              "       [0.8182029 , 0.08900147, 0.0865702 , 0.0062254 ],\n",
              "       ...,\n",
              "       [0.79732877, 0.09125856, 0.10512189, 0.00629082],\n",
              "       [0.6736622 , 0.13784873, 0.1752996 , 0.01318952],\n",
              "       [0.9430836 , 0.03222149, 0.02367734, 0.00101759]], dtype=float32)"
            ]
          },
          "metadata": {
            "tags": []
          },
          "execution_count": 49
        }
      ]
    },
    {
      "metadata": {
        "id": "xzLbsU2uGP7h",
        "colab_type": "code",
        "colab": {
          "base_uri": "https://localhost:8080/",
          "height": 34
        },
        "outputId": "53275992-1927-4537-8e8b-1a4a5ed79fd9"
      },
      "cell_type": "code",
      "source": [
        "pred_class=[]\n",
        "for i in range(len(pred)):\n",
        "    pred_class.append(np.argmax(pred[i]))\n",
        "pred_class[:5]"
      ],
      "execution_count": 53,
      "outputs": [
        {
          "output_type": "execute_result",
          "data": {
            "text/plain": [
              "[0, 0, 0, 0, 0]"
            ]
          },
          "metadata": {
            "tags": []
          },
          "execution_count": 53
        }
      ]
    },
    {
      "metadata": {
        "id": "6RK5Bo-oGjRQ",
        "colab_type": "code",
        "colab": {
          "base_uri": "https://localhost:8080/",
          "height": 85
        },
        "outputId": "cf25aa73-fea0-47d8-a7d1-989722d2e230"
      },
      "cell_type": "code",
      "source": [
        "print \"number of 0 labels \" + str(sum(map(lambda x: 1 if x==0 else 0, yLabels_filtered[:-10000] )))\n",
        "print \"number of 1 labels \" + str(sum(map(lambda x: 1 if x==1 else 0, yLabels_filtered[:-10000] )))\n",
        "print \"number of 2 labels \" + str(sum(map(lambda x: 1 if x==2 else 0, yLabels_filtered[:-10000] )))\n",
        "print \"number of 3 labels \" + str(sum(map(lambda x: 1 if x==3 else 0, yLabels_filtered[:-10000] )))"
      ],
      "execution_count": 54,
      "outputs": [
        {
          "output_type": "stream",
          "text": [
            "number of 0 labels 29326\n",
            "number of 1 labels 3635\n",
            "number of 2 labels 3793\n",
            "number of 3 labels 539\n"
          ],
          "name": "stdout"
        }
      ]
    },
    {
      "metadata": {
        "id": "iKOWjXIqahvh",
        "colab_type": "code",
        "colab": {
          "base_uri": "https://localhost:8080/",
          "height": 85
        },
        "outputId": "d9e04fbc-6a85-4005-fcdc-beac1412a0cf"
      },
      "cell_type": "code",
      "source": [
        "print 29326.0/len(yLabels_filtered[:-10000])\n",
        "print 3635.0/len(yLabels_filtered[:-10000])\n",
        "print 3793.0/len(yLabels_filtered[:-10000])\n",
        "print 539.0/len(yLabels_filtered[:-10000])"
      ],
      "execution_count": 55,
      "outputs": [
        {
          "output_type": "stream",
          "text": [
            "0.786367414796\n",
            "0.0974713753251\n",
            "0.101708095353\n",
            "0.0144531145255\n"
          ],
          "name": "stdout"
        }
      ]
    },
    {
      "metadata": {
        "id": "AgF1LoUvahyy",
        "colab_type": "code",
        "colab": {
          "base_uri": "https://localhost:8080/",
          "height": 85
        },
        "outputId": "cb2016b1-b66f-4349-c741-10854e649d2c"
      },
      "cell_type": "code",
      "source": [
        "print \"number of 0 labels \" + str(sum(map(lambda x: 1 if x==0 else 0, pred_class )))\n",
        "print \"number of 1 labels \" + str(sum(map(lambda x: 1 if x==1 else 0, pred_class )))\n",
        "print \"number of 2 labels \" + str(sum(map(lambda x: 1 if x==2 else 0, pred_class )))\n",
        "print \"number of 3 labels \" + str(sum(map(lambda x: 1 if x==3 else 0, pred_class )))"
      ],
      "execution_count": 56,
      "outputs": [
        {
          "output_type": "stream",
          "text": [
            "number of 0 labels 9770\n",
            "number of 1 labels 10\n",
            "number of 2 labels 220\n",
            "number of 3 labels 0\n"
          ],
          "name": "stdout"
        }
      ]
    },
    {
      "metadata": {
        "id": "Mvf-kJ6rah4v",
        "colab_type": "code",
        "colab": {
          "base_uri": "https://localhost:8080/",
          "height": 85
        },
        "outputId": "4e891de1-d7b0-4223-d7f6-de3bd9931ea1"
      },
      "cell_type": "code",
      "source": [
        "yLabels_filtered[-10000:]\n",
        "print \"number of 0 labels \" + str(sum(map(lambda x: 1 if x==0 else 0, yLabels_filtered[-10000:] )))\n",
        "print \"number of 1 labels \" + str(sum(map(lambda x: 1 if x==1 else 0, yLabels_filtered[-10000:] )))\n",
        "print \"number of 2 labels \" + str(sum(map(lambda x: 1 if x==2 else 0, yLabels_filtered[-10000:] )))\n",
        "print \"number of 3 labels \" + str(sum(map(lambda x: 1 if x==3 else 0, yLabels_filtered[-10000:] )))"
      ],
      "execution_count": 58,
      "outputs": [
        {
          "output_type": "stream",
          "text": [
            "number of 0 labels 8022\n",
            "number of 1 labels 866\n",
            "number of 2 labels 1041\n",
            "number of 3 labels 71\n"
          ],
          "name": "stdout"
        }
      ]
    },
    {
      "metadata": {
        "id": "tNQ3reWRLf7q",
        "colab_type": "code",
        "colab": {}
      },
      "cell_type": "code",
      "source": [
        "pred_class=[]\n",
        "for i in range(len(pred)):\n",
        "    pred_class.append(np.argmax(pred[i]))\n",
        "pred_class[:5]\n",
        "\n",
        "tpu_model.fit_generator(\n",
        "    train_gen(1024),\n",
        "    epochs=10,\n",
        "    steps_per_epoch=100,\n",
        "    validation_data=(x_test, y_test),\n",
        ")"
      ],
      "execution_count": 0,
      "outputs": []
    }
  ]
}