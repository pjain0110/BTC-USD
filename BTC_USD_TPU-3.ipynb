{
  "nbformat": 4,
  "nbformat_minor": 0,
  "metadata": {
    "colab": {
      "name": "BTC_USD_TPU",
      "version": "0.3.2",
      "provenance": [],
      "collapsed_sections": []
    },
    "kernelspec": {
      "name": "python2",
      "display_name": "Python 2"
    },
    "accelerator": "TPU"
  },
  "cells": [
    {
      "metadata": {
        "id": "9zoiEmlE1Z6a",
        "colab_type": "code",
        "outputId": "444fb1bf-249a-4bec-e384-b53eb3b2ec2d",
        "colab": {
          "base_uri": "https://localhost:8080/",
          "height": 34
        }
      },
      "cell_type": "code",
      "source": [
        "import tensorflow as tf\n",
        "import tensorflow_hub as hub\n",
        "import matplotlib.pyplot as plt\n",
        "import numpy as np\n",
        "import os\n",
        "import pandas as pd\n",
        "import re\n",
        "import seaborn as sns\n",
        "import keras.layers as layers\n",
        "from keras.models import Model\n",
        "from keras import backend as K\n",
        "np.random.seed(10)\n"
      ],
      "execution_count": 0,
      "outputs": [
        {
          "output_type": "stream",
          "text": [
            "Using TensorFlow backend.\n"
          ],
          "name": "stderr"
        }
      ]
    },
    {
      "metadata": {
        "id": "UjtVX4BjxrP9",
        "colab_type": "code",
        "colab": {}
      },
      "cell_type": "code",
      "source": [
        "import tensorflow as tf"
      ],
      "execution_count": 0,
      "outputs": []
    },
    {
      "metadata": {
        "id": "eAcpGTm72x_L",
        "colab_type": "code",
        "colab": {}
      },
      "cell_type": "code",
      "source": [
        "module_url = \"https://tfhub.dev/google/universal-sentence-encoder-large/3\""
      ],
      "execution_count": 0,
      "outputs": []
    },
    {
      "metadata": {
        "id": "29cT1o6m297T",
        "colab_type": "code",
        "outputId": "17382b15-badb-414d-bc60-5903c82b9380",
        "colab": {
          "base_uri": "https://localhost:8080/",
          "height": 329
        }
      },
      "cell_type": "code",
      "source": [
        "embed = hub.Module(module_url)\n",
        "\n",
        "# Compute a representation for each message, showing various lengths supported.\n",
        "word = \"Elephant\"\n",
        "sentence = \"I am a sentence for which I would like to get its embedding.\"\n",
        "paragraph = (\n",
        "    \"Universal Sentence Encoder embeddings also support short paragraphs. \"\n",
        "    \"There is no hard limit on how long the paragraph is. Roughly, the longer \"\n",
        "    \"the more 'diluted' the embedding will be.\")\n",
        "messages = [word, sentence, paragraph]\n",
        "\n",
        "# Reduce logging output.\n",
        "#tf.logging.set_verbosity(tf.logging.ERROR)\n",
        "\n",
        "with tf.Session() as session:\n",
        "  session.run([tf.global_variables_initializer(), tf.tables_initializer()])\n",
        "  message_embeddings = session.run(embed(messages))\n",
        "\n",
        "  for i, message_embedding in enumerate(np.array(message_embeddings).tolist()):\n",
        "    print(\"Message: {}\".format(messages[i]))\n",
        "    print(\"Embedding size: {}\".format(len(message_embedding)))\n",
        "    message_embedding_snippet = \", \".join(\n",
        "        (str(x) for x in message_embedding[:3]))\n",
        "    print(\"Embedding: [{}, ...]\\n\".format(message_embedding_snippet))"
      ],
      "execution_count": 0,
      "outputs": [
        {
          "output_type": "stream",
          "text": [
            "INFO:tensorflow:Using /tmp/tfhub_modules to cache modules.\n",
            "INFO:tensorflow:Downloading TF-Hub Module 'https://tfhub.dev/google/universal-sentence-encoder-large/3'.\n",
            "INFO:tensorflow:Downloaded TF-Hub Module 'https://tfhub.dev/google/universal-sentence-encoder-large/3'.\n",
            "INFO:tensorflow:Saver not created because there are no variables in the graph to restore\n",
            "Message: Elephant\n",
            "Embedding size: 512\n",
            "Embedding: [0.0449847355485, -0.0574339441955, 0.00221146922559, ...]\n",
            "\n",
            "Message: I am a sentence for which I would like to get its embedding.\n",
            "Embedding size: 512\n",
            "Embedding: [0.0556801855564, -0.0096079222858, 0.0062462859787, ...]\n",
            "\n",
            "Message: Universal Sentence Encoder embeddings also support short paragraphs. There is no hard limit on how long the paragraph is. Roughly, the longer the more 'diluted' the embedding will be.\n",
            "Embedding size: 512\n",
            "Embedding: [0.0387493856251, 0.0765201449394, -0.000794580671936, ...]\n",
            "\n"
          ],
          "name": "stdout"
        }
      ]
    },
    {
      "metadata": {
        "id": "UoAqsixl3BLG",
        "colab_type": "code",
        "colab": {}
      },
      "cell_type": "code",
      "source": [
        "def plot_similarity(labels, features, rotation):\n",
        "  corr = np.inner(features, features)\n",
        "  sns.set(font_scale=1.2)\n",
        "  g = sns.heatmap(\n",
        "      corr,\n",
        "      xticklabels=labels,\n",
        "      yticklabels=labels,\n",
        "      vmin=0,\n",
        "      vmax=1,\n",
        "      cmap=\"YlOrRd\")\n",
        "  g.set_xticklabels(labels, rotation=rotation)\n",
        "  g.set_title(\"Semantic Textual Similarity\")\n",
        "\n",
        "\n",
        "def run_and_plot(session_, input_tensor_, messages_, encoding_tensor):\n",
        "  message_embeddings_ = session_.run(\n",
        "      encoding_tensor, feed_dict={input_tensor_: messages_})\n",
        "  #plot_similarity(messages_, message_embeddings_, 90)"
      ],
      "execution_count": 0,
      "outputs": []
    },
    {
      "metadata": {
        "id": "bYgnek743LA5",
        "colab_type": "code",
        "colab": {}
      },
      "cell_type": "code",
      "source": [
        "messages = [\n",
        "    # Smartphones\n",
        "#    \"OnePlus CEO Pete Lau details 'Screen Unlock' feature on OnePlus 6T\",\n",
        "#    \"Truecaller launches chat feature to curb spread of fake news\",\n",
        "#    \"Cell phone users across the US receive 'Presidential Alert'\",\n",
        "\n",
        "    # Sports\n",
        "    \"Neymar scores hat-trick in PSG's 6-1 win; Messi nets 2 for Barca\",\n",
        "    \"Only 10% tickets sold for the 1st Test between India, Windies\",\n",
        "    \"18-year-old Shaw youngest India to score century on Test debut\",\n",
        "    \n",
        "    #Entertainment\n",
        "    \"Sylvester Stallone reveals his look from 'Rambo 5'\",\n",
        "    \"What she speaks about is definitely reality: Kajol on Tanushree row\",\n",
        "    \"SRK came down to Lungi Dance as I stopped singing for him: Abhijeet\"\n",
        "    \n",
        "\n",
        "    # Asking about age\n",
        "#    \"Look in mirror to find oil price rise culprit: Putin to Trump\",\n",
        "#    \"US ends 1955 treaty with Iran over world court's decision\",\n",
        "#    \"Be large-hearted, take other parties along: Akhilesh to Cong\",\n",
        "#    \"Will never beg the US to lift sanctions: North Korea\",\n",
        "#    \"Madhya Pradesh CM announces INR 100-crore startup fund\",\n",
        "#    \"Cong MP Digvijaya Singh a BJP agent, scared of ED, CBI: Mayawati\"\n",
        "]*500\n",
        "\n"
      ],
      "execution_count": 0,
      "outputs": []
    },
    {
      "metadata": {
        "id": "vxD4Fj3W3PPx",
        "colab_type": "code",
        "outputId": "366690e9-d51b-46ce-b77d-e71c215da6f1",
        "colab": {
          "base_uri": "https://localhost:8080/",
          "height": 51
        }
      },
      "cell_type": "code",
      "source": [
        "import time\n",
        "start = time.time()\n",
        "\n",
        "similarity_input_placeholder = tf.placeholder(tf.string, shape=(None))\n",
        "similarity_message_encodings = embed(similarity_input_placeholder)\n",
        "with tf.Session() as session:\n",
        "  session.run(tf.global_variables_initializer())\n",
        "  session.run(tf.tables_initializer())\n",
        "  run_and_plot(session, similarity_input_placeholder, messages,\n",
        "               similarity_message_encodings)\n",
        "  \n",
        "end = time.time()\n",
        "print(end - start)"
      ],
      "execution_count": 0,
      "outputs": [
        {
          "output_type": "stream",
          "text": [
            "INFO:tensorflow:Saver not created because there are no variables in the graph to restore\n",
            "50.520460844\n"
          ],
          "name": "stdout"
        }
      ]
    },
    {
      "metadata": {
        "id": "las9gYV-4Z8W",
        "colab_type": "code",
        "colab": {}
      },
      "cell_type": "code",
      "source": [
        "import json\n",
        "import pandas as pd\n",
        "from datetime import datetime\n",
        "import matplotlib.pyplot as plt\n",
        "import numpy as np\n",
        "from operator import add\n",
        "\n",
        "np.random.seed(0)\n",
        "from keras.models import Model\n",
        "from keras.layers import Dense, Input, Dropout, LSTM, Activation\n",
        "from keras.layers.embeddings import Embedding\n",
        "from keras.preprocessing import sequence\n",
        "from keras.initializers import glorot_uniform\n",
        "np.random.seed(1)"
      ],
      "execution_count": 0,
      "outputs": []
    },
    {
      "metadata": {
        "id": "foj5oiAi_4EY",
        "colab_type": "code",
        "outputId": "e898d2bf-5515-4d42-a2b4-99c53782adb4",
        "colab": {
          "base_uri": "https://localhost:8080/",
          "height": 164
        }
      },
      "cell_type": "code",
      "source": [
        "json_data=open('BC_USDT_30min').read()"
      ],
      "execution_count": 0,
      "outputs": [
        {
          "output_type": "error",
          "ename": "IOError",
          "evalue": "ignored",
          "traceback": [
            "\u001b[0;31m\u001b[0m",
            "\u001b[0;31mIOError\u001b[0mTraceback (most recent call last)",
            "\u001b[0;32m<ipython-input-3-bcc0ec5c262e>\u001b[0m in \u001b[0;36m<module>\u001b[0;34m()\u001b[0m\n\u001b[0;32m----> 1\u001b[0;31m \u001b[0mjson_data\u001b[0m\u001b[0;34m=\u001b[0m\u001b[0mopen\u001b[0m\u001b[0;34m(\u001b[0m\u001b[0;34m'BC_USDT_30min'\u001b[0m\u001b[0;34m)\u001b[0m\u001b[0;34m.\u001b[0m\u001b[0mread\u001b[0m\u001b[0;34m(\u001b[0m\u001b[0;34m)\u001b[0m\u001b[0;34m\u001b[0m\u001b[0m\n\u001b[0m",
            "\u001b[0;31mIOError\u001b[0m: [Errno 2] No such file or directory: 'BC_USDT_30min'"
          ]
        }
      ]
    },
    {
      "metadata": {
        "id": "yO3A6x20_-xf",
        "colab_type": "code",
        "outputId": "a09c8375-e38c-4f13-cf0c-1b47ef61faad",
        "colab": {
          "base_uri": "https://localhost:8080/",
          "height": 459
        }
      },
      "cell_type": "code",
      "source": [
        "from os import listdir\n",
        "import os\n",
        "print os.getcwd()\n",
        "listdir(\"/\")"
      ],
      "execution_count": 0,
      "outputs": [
        {
          "output_type": "stream",
          "text": [
            "/content\n"
          ],
          "name": "stdout"
        },
        {
          "output_type": "execute_result",
          "data": {
            "text/plain": [
              "['opt',\n",
              " 'media',\n",
              " 'sbin',\n",
              " 'run',\n",
              " 'usr',\n",
              " 'mnt',\n",
              " 'tmp',\n",
              " 'var',\n",
              " 'sys',\n",
              " 'home',\n",
              " 'dev',\n",
              " 'bin',\n",
              " 'boot',\n",
              " 'lib64',\n",
              " 'lib',\n",
              " 'proc',\n",
              " 'srv',\n",
              " 'etc',\n",
              " 'root',\n",
              " 'content',\n",
              " '.dockerenv',\n",
              " 'colabtools',\n",
              " 'datalab',\n",
              " 'tools',\n",
              " 'lib32']"
            ]
          },
          "metadata": {
            "tags": []
          },
          "execution_count": 6
        }
      ]
    },
    {
      "metadata": {
        "id": "Rt8wc7G5AxPI",
        "colab_type": "code",
        "outputId": "3d7542df-24c8-4427-bbb4-085996bbf970",
        "colab": {
          "base_uri": "https://localhost:8080/",
          "height": 34
        }
      },
      "cell_type": "code",
      "source": [
        "from google.colab import drive\n",
        "drive.mount('/content/gdrive')"
      ],
      "execution_count": 0,
      "outputs": [
        {
          "output_type": "stream",
          "text": [
            "Drive already mounted at /content/gdrive; to attempt to forcibly remount, call drive.mount(\"/content/gdrive\", force_remount=True).\n"
          ],
          "name": "stdout"
        }
      ]
    },
    {
      "metadata": {
        "id": "HJT3M7LhC1I7",
        "colab_type": "code",
        "outputId": "a4337c45-4f2f-4f93-b51b-f3e031d18c68",
        "colab": {
          "base_uri": "https://localhost:8080/",
          "height": 164
        }
      },
      "cell_type": "code",
      "source": [
        "listdir(\"/content/gdrive/My Drive/Colab Notebooks\")"
      ],
      "execution_count": 0,
      "outputs": [
        {
          "output_type": "error",
          "ename": "NameError",
          "evalue": "ignored",
          "traceback": [
            "\u001b[0;31m\u001b[0m",
            "\u001b[0;31mNameError\u001b[0mTraceback (most recent call last)",
            "\u001b[0;32m<ipython-input-5-8a5669b89b77>\u001b[0m in \u001b[0;36m<module>\u001b[0;34m()\u001b[0m\n\u001b[0;32m----> 1\u001b[0;31m \u001b[0mlistdir\u001b[0m\u001b[0;34m(\u001b[0m\u001b[0;34m\"/content/gdrive/My Drive/Colab Notebooks\"\u001b[0m\u001b[0;34m)\u001b[0m\u001b[0;34m\u001b[0m\u001b[0m\n\u001b[0m",
            "\u001b[0;31mNameError\u001b[0m: name 'listdir' is not defined"
          ]
        }
      ]
    },
    {
      "metadata": {
        "id": "aLpPXGY1DP1U",
        "colab_type": "code",
        "colab": {}
      },
      "cell_type": "code",
      "source": [
        "json_data=open(\"/content/gdrive/My Drive/Colab Notebooks/BC_USDT_30min\").read()"
      ],
      "execution_count": 0,
      "outputs": []
    },
    {
      "metadata": {
        "id": "h6IIMn7fDit9",
        "colab_type": "code",
        "colab": {}
      },
      "cell_type": "code",
      "source": [
        "data = json.loads(json_data)"
      ],
      "execution_count": 0,
      "outputs": []
    },
    {
      "metadata": {
        "id": "XkotZ3LRDnck",
        "colab_type": "code",
        "outputId": "7f5f03ab-761e-48a0-c0e2-6aceb1987f22",
        "colab": {
          "base_uri": "https://localhost:8080/",
          "height": 153
        }
      },
      "cell_type": "code",
      "source": [
        "data[0]"
      ],
      "execution_count": 0,
      "outputs": [
        {
          "output_type": "execute_result",
          "data": {
            "text/plain": [
              "{u'close': 225,\n",
              " u'date': 1424372400,\n",
              " u'high': 225,\n",
              " u'low': 225,\n",
              " u'open': 225,\n",
              " u'quoteVolume': 0.00444444,\n",
              " u'volume': 0.999999,\n",
              " u'weightedAverage': 225}"
            ]
          },
          "metadata": {
            "tags": []
          },
          "execution_count": 9
        }
      ]
    },
    {
      "metadata": {
        "id": "4gCReHZNDpBM",
        "colab_type": "code",
        "colab": {}
      },
      "cell_type": "code",
      "source": [
        "dataF = pd.DataFrame(data)"
      ],
      "execution_count": 0,
      "outputs": []
    },
    {
      "metadata": {
        "id": "Vtn05ZsoDq9E",
        "colab_type": "code",
        "outputId": "b3351eb1-7a9a-4dbe-8666-d650301139a4",
        "colab": {
          "base_uri": "https://localhost:8080/",
          "height": 204
        }
      },
      "cell_type": "code",
      "source": [
        "dataF.head()"
      ],
      "execution_count": 0,
      "outputs": [
        {
          "output_type": "execute_result",
          "data": {
            "text/html": [
              "<div>\n",
              "<style scoped>\n",
              "    .dataframe tbody tr th:only-of-type {\n",
              "        vertical-align: middle;\n",
              "    }\n",
              "\n",
              "    .dataframe tbody tr th {\n",
              "        vertical-align: top;\n",
              "    }\n",
              "\n",
              "    .dataframe thead th {\n",
              "        text-align: right;\n",
              "    }\n",
              "</style>\n",
              "<table border=\"1\" class=\"dataframe\">\n",
              "  <thead>\n",
              "    <tr style=\"text-align: right;\">\n",
              "      <th></th>\n",
              "      <th>close</th>\n",
              "      <th>date</th>\n",
              "      <th>high</th>\n",
              "      <th>low</th>\n",
              "      <th>open</th>\n",
              "      <th>quoteVolume</th>\n",
              "      <th>volume</th>\n",
              "      <th>weightedAverage</th>\n",
              "    </tr>\n",
              "  </thead>\n",
              "  <tbody>\n",
              "    <tr>\n",
              "      <th>0</th>\n",
              "      <td>225.0</td>\n",
              "      <td>1424372400</td>\n",
              "      <td>225.0</td>\n",
              "      <td>225.0</td>\n",
              "      <td>225.0</td>\n",
              "      <td>0.004444</td>\n",
              "      <td>0.999999</td>\n",
              "      <td>225.000000</td>\n",
              "    </tr>\n",
              "    <tr>\n",
              "      <th>1</th>\n",
              "      <td>225.0</td>\n",
              "      <td>1424374200</td>\n",
              "      <td>225.0</td>\n",
              "      <td>225.0</td>\n",
              "      <td>225.0</td>\n",
              "      <td>0.000000</td>\n",
              "      <td>0.000000</td>\n",
              "      <td>225.000000</td>\n",
              "    </tr>\n",
              "    <tr>\n",
              "      <th>2</th>\n",
              "      <td>240.0</td>\n",
              "      <td>1424376000</td>\n",
              "      <td>240.0</td>\n",
              "      <td>225.0</td>\n",
              "      <td>225.0</td>\n",
              "      <td>0.128625</td>\n",
              "      <td>30.624650</td>\n",
              "      <td>238.092076</td>\n",
              "    </tr>\n",
              "    <tr>\n",
              "      <th>3</th>\n",
              "      <td>244.0</td>\n",
              "      <td>1424377800</td>\n",
              "      <td>244.0</td>\n",
              "      <td>244.0</td>\n",
              "      <td>244.0</td>\n",
              "      <td>0.060046</td>\n",
              "      <td>14.651226</td>\n",
              "      <td>244.000000</td>\n",
              "    </tr>\n",
              "    <tr>\n",
              "      <th>4</th>\n",
              "      <td>244.0</td>\n",
              "      <td>1424379600</td>\n",
              "      <td>244.0</td>\n",
              "      <td>244.0</td>\n",
              "      <td>244.0</td>\n",
              "      <td>0.000000</td>\n",
              "      <td>0.000000</td>\n",
              "      <td>244.000000</td>\n",
              "    </tr>\n",
              "  </tbody>\n",
              "</table>\n",
              "</div>"
            ],
            "text/plain": [
              "   close        date   high    low   open  quoteVolume     volume  \\\n",
              "0  225.0  1424372400  225.0  225.0  225.0     0.004444   0.999999   \n",
              "1  225.0  1424374200  225.0  225.0  225.0     0.000000   0.000000   \n",
              "2  240.0  1424376000  240.0  225.0  225.0     0.128625  30.624650   \n",
              "3  244.0  1424377800  244.0  244.0  244.0     0.060046  14.651226   \n",
              "4  244.0  1424379600  244.0  244.0  244.0     0.000000   0.000000   \n",
              "\n",
              "   weightedAverage  \n",
              "0       225.000000  \n",
              "1       225.000000  \n",
              "2       238.092076  \n",
              "3       244.000000  \n",
              "4       244.000000  "
            ]
          },
          "metadata": {
            "tags": []
          },
          "execution_count": 11
        }
      ]
    },
    {
      "metadata": {
        "id": "GPbIoi0QDstS",
        "colab_type": "code",
        "outputId": "dd1711e1-195d-49b3-c74a-dafe369e5b0b",
        "colab": {
          "base_uri": "https://localhost:8080/",
          "height": 34
        }
      },
      "cell_type": "code",
      "source": [
        "dataF.shape"
      ],
      "execution_count": 0,
      "outputs": [
        {
          "output_type": "execute_result",
          "data": {
            "text/plain": [
              "(61326, 8)"
            ]
          },
          "metadata": {
            "tags": []
          },
          "execution_count": 12
        }
      ]
    },
    {
      "metadata": {
        "id": "9JC-PkCUDvMI",
        "colab_type": "code",
        "outputId": "311d746a-5fec-48ab-d790-8373b991db2c",
        "colab": {
          "base_uri": "https://localhost:8080/",
          "height": 204
        }
      },
      "cell_type": "code",
      "source": [
        "dataF[\"dateTime\"] = map(lambda x:datetime.utcfromtimestamp(x), dataF[\"date\"] )\n",
        "dataF.head()"
      ],
      "execution_count": 0,
      "outputs": [
        {
          "output_type": "execute_result",
          "data": {
            "text/html": [
              "<div>\n",
              "<style scoped>\n",
              "    .dataframe tbody tr th:only-of-type {\n",
              "        vertical-align: middle;\n",
              "    }\n",
              "\n",
              "    .dataframe tbody tr th {\n",
              "        vertical-align: top;\n",
              "    }\n",
              "\n",
              "    .dataframe thead th {\n",
              "        text-align: right;\n",
              "    }\n",
              "</style>\n",
              "<table border=\"1\" class=\"dataframe\">\n",
              "  <thead>\n",
              "    <tr style=\"text-align: right;\">\n",
              "      <th></th>\n",
              "      <th>close</th>\n",
              "      <th>date</th>\n",
              "      <th>high</th>\n",
              "      <th>low</th>\n",
              "      <th>open</th>\n",
              "      <th>quoteVolume</th>\n",
              "      <th>volume</th>\n",
              "      <th>weightedAverage</th>\n",
              "      <th>dateTime</th>\n",
              "    </tr>\n",
              "  </thead>\n",
              "  <tbody>\n",
              "    <tr>\n",
              "      <th>0</th>\n",
              "      <td>225.0</td>\n",
              "      <td>1424372400</td>\n",
              "      <td>225.0</td>\n",
              "      <td>225.0</td>\n",
              "      <td>225.0</td>\n",
              "      <td>0.004444</td>\n",
              "      <td>0.999999</td>\n",
              "      <td>225.000000</td>\n",
              "      <td>2015-02-19 19:00:00</td>\n",
              "    </tr>\n",
              "    <tr>\n",
              "      <th>1</th>\n",
              "      <td>225.0</td>\n",
              "      <td>1424374200</td>\n",
              "      <td>225.0</td>\n",
              "      <td>225.0</td>\n",
              "      <td>225.0</td>\n",
              "      <td>0.000000</td>\n",
              "      <td>0.000000</td>\n",
              "      <td>225.000000</td>\n",
              "      <td>2015-02-19 19:30:00</td>\n",
              "    </tr>\n",
              "    <tr>\n",
              "      <th>2</th>\n",
              "      <td>240.0</td>\n",
              "      <td>1424376000</td>\n",
              "      <td>240.0</td>\n",
              "      <td>225.0</td>\n",
              "      <td>225.0</td>\n",
              "      <td>0.128625</td>\n",
              "      <td>30.624650</td>\n",
              "      <td>238.092076</td>\n",
              "      <td>2015-02-19 20:00:00</td>\n",
              "    </tr>\n",
              "    <tr>\n",
              "      <th>3</th>\n",
              "      <td>244.0</td>\n",
              "      <td>1424377800</td>\n",
              "      <td>244.0</td>\n",
              "      <td>244.0</td>\n",
              "      <td>244.0</td>\n",
              "      <td>0.060046</td>\n",
              "      <td>14.651226</td>\n",
              "      <td>244.000000</td>\n",
              "      <td>2015-02-19 20:30:00</td>\n",
              "    </tr>\n",
              "    <tr>\n",
              "      <th>4</th>\n",
              "      <td>244.0</td>\n",
              "      <td>1424379600</td>\n",
              "      <td>244.0</td>\n",
              "      <td>244.0</td>\n",
              "      <td>244.0</td>\n",
              "      <td>0.000000</td>\n",
              "      <td>0.000000</td>\n",
              "      <td>244.000000</td>\n",
              "      <td>2015-02-19 21:00:00</td>\n",
              "    </tr>\n",
              "  </tbody>\n",
              "</table>\n",
              "</div>"
            ],
            "text/plain": [
              "   close        date   high    low   open  quoteVolume     volume  \\\n",
              "0  225.0  1424372400  225.0  225.0  225.0     0.004444   0.999999   \n",
              "1  225.0  1424374200  225.0  225.0  225.0     0.000000   0.000000   \n",
              "2  240.0  1424376000  240.0  225.0  225.0     0.128625  30.624650   \n",
              "3  244.0  1424377800  244.0  244.0  244.0     0.060046  14.651226   \n",
              "4  244.0  1424379600  244.0  244.0  244.0     0.000000   0.000000   \n",
              "\n",
              "   weightedAverage            dateTime  \n",
              "0       225.000000 2015-02-19 19:00:00  \n",
              "1       225.000000 2015-02-19 19:30:00  \n",
              "2       238.092076 2015-02-19 20:00:00  \n",
              "3       244.000000 2015-02-19 20:30:00  \n",
              "4       244.000000 2015-02-19 21:00:00  "
            ]
          },
          "metadata": {
            "tags": []
          },
          "execution_count": 13
        }
      ]
    },
    {
      "metadata": {
        "id": "aDiZ_Ue-Dw-_",
        "colab_type": "code",
        "outputId": "37d94c01-8c19-435d-9ca2-08629daa5cb3",
        "colab": {
          "base_uri": "https://localhost:8080/",
          "height": 34
        }
      },
      "cell_type": "code",
      "source": [
        "(int(dataF['date'][-1:]) - int(dataF['date'][0:1]))/30/60 + 1"
      ],
      "execution_count": 0,
      "outputs": [
        {
          "output_type": "execute_result",
          "data": {
            "text/plain": [
              "61326"
            ]
          },
          "metadata": {
            "tags": []
          },
          "execution_count": 14
        }
      ]
    },
    {
      "metadata": {
        "id": "AIZ0S5w5DzMJ",
        "colab_type": "code",
        "outputId": "1103aa9f-9d85-4b8a-cd0d-ce19fdfd3184",
        "colab": {
          "base_uri": "https://localhost:8080/",
          "height": 347
        }
      },
      "cell_type": "code",
      "source": [
        "fig = plt.figure()\n",
        "ax1 = fig.add_subplot(111)\n",
        "ax1.plot(dataF[\"dateTime\"][10000:], dataF[\"weightedAverage\"][10000:])\n",
        "plt.show()"
      ],
      "execution_count": 0,
      "outputs": [
        {
          "output_type": "display_data",
          "data": {
            "image/png": "[encoded data removed]",
            "text/plain": [
              "<matplotlib.figure.Figure at 0x7f5eb865c890>"
            ]
          },
          "metadata": {
            "tags": []
          }
        }
      ]
    },
    {
      "metadata": {
        "id": "HcLelOyKD0zv",
        "colab_type": "code",
        "colab": {}
      },
      "cell_type": "code",
      "source": [
        "def feature_vector(dataF,num_dim, feature_list, verbose=False, vb_chunk_size = 2000):\n",
        "    num_rows = dataF.shape[0]\n",
        "    \n",
        "    if num_rows < num_dim:\n",
        "        print (\"number of rows less than the dimension expected\")\n",
        "        return 0\n",
        "    \n",
        "    num_features = len(feature_list)\n",
        "    n_C = num_features\n",
        "    n_H = num_dim\n",
        "    m = num_rows - num_dim + 1\n",
        "    dataF_array = np.ndarray([m,n_H,n_C])\n",
        "    for i in range(m):\n",
        "        if verbose:\n",
        "            if i%vb_chunk_size == 0:\n",
        "                print str(i) + \" rows completed\"\n",
        "        for j in range(n_H):\n",
        "            for k in range(n_C):\n",
        "                dataF_array[i,j,k] = dataF[feature_list[k]][i + j]\n",
        "    date_labels = dataF['date'][num_dim:]\n",
        "                \n",
        "    return dataF_array, date_labels\n",
        "    "
      ],
      "execution_count": 0,
      "outputs": []
    },
    {
      "metadata": {
        "id": "8c-c6687D3XP",
        "colab_type": "code",
        "colab": {}
      },
      "cell_type": "code",
      "source": [
        "def feature_vector(dataF,num_dim, feature_list, verbose=False, vb_chunk_size = 2000):\n",
        "    num_rows = dataF.shape[0]\n",
        "    \n",
        "    if num_rows < num_dim:\n",
        "        print (\"number of rows less than the dimension expected\")\n",
        "        return 0\n",
        "    \n",
        "    num_features = len(feature_list)\n",
        "    n_C = num_features\n",
        "    n_H = num_dim\n",
        "    m = num_rows - num_dim + 1\n",
        "    dataF_array = np.ndarray([m,n_H,n_C])\n",
        "    \n",
        "    for i in range(m):\n",
        "        \n",
        "        if verbose:\n",
        "            if i%vb_chunk_size == 0:\n",
        "                print str(i) + \" rows completed\"\n",
        "        \n",
        "        l = dataF[feature_list][i:(i+num_dim)]\n",
        "        dataF_array[i,:,:]=np.array(l)\n",
        "        \n",
        "    date_labels = dataF['date'][(num_dim-1):]\n",
        "                \n",
        "    return dataF_array, date_labels"
      ],
      "execution_count": 0,
      "outputs": []
    },
    {
      "metadata": {
        "id": "mzyDnBsRD6Qz",
        "colab_type": "code",
        "outputId": "7bd6c422-48fa-46cd-9e82-742a3749e515",
        "colab": {
          "base_uri": "https://localhost:8080/",
          "height": 561
        }
      },
      "cell_type": "code",
      "source": [
        "feature_list = ['close','high','low','open','quoteVolume','volume','weightedAverage']\n",
        "num_dim = 300\n",
        "dataF_array, date_labels = feature_vector(dataF,num_dim, feature_list, verbose =True)\n",
        "\n",
        "dataF_array.shape\n",
        "\n"
      ],
      "execution_count": 0,
      "outputs": [
        {
          "output_type": "stream",
          "text": [
            "0 rows completed\n",
            "2000 rows completed\n",
            "4000 rows completed\n",
            "6000 rows completed\n",
            "8000 rows completed\n",
            "10000 rows completed\n",
            "12000 rows completed\n",
            "14000 rows completed\n",
            "16000 rows completed\n",
            "18000 rows completed\n",
            "20000 rows completed\n",
            "22000 rows completed\n",
            "24000 rows completed\n",
            "26000 rows completed\n",
            "28000 rows completed\n",
            "30000 rows completed\n",
            "32000 rows completed\n",
            "34000 rows completed\n",
            "36000 rows completed\n",
            "38000 rows completed\n",
            "40000 rows completed\n",
            "42000 rows completed\n",
            "44000 rows completed\n",
            "46000 rows completed\n",
            "48000 rows completed\n",
            "50000 rows completed\n",
            "52000 rows completed\n",
            "54000 rows completed\n",
            "56000 rows completed\n",
            "58000 rows completed\n",
            "60000 rows completed\n"
          ],
          "name": "stdout"
        },
        {
          "output_type": "execute_result",
          "data": {
            "text/plain": [
              "(61027, 300, 7)"
            ]
          },
          "metadata": {
            "tags": []
          },
          "execution_count": 18
        }
      ]
    },
    {
      "metadata": {
        "id": "G3MCDemOD8Bt",
        "colab_type": "code",
        "outputId": "eef05e5e-9d03-45c9-db5f-beb4a7bd5b4c",
        "colab": {
          "base_uri": "https://localhost:8080/",
          "height": 34
        }
      },
      "cell_type": "code",
      "source": [
        "date_labels.shape"
      ],
      "execution_count": 0,
      "outputs": [
        {
          "output_type": "execute_result",
          "data": {
            "text/plain": [
              "(61027,)"
            ]
          },
          "metadata": {
            "tags": []
          },
          "execution_count": 19
        }
      ]
    },
    {
      "metadata": {
        "id": "L5RFcgqwD_xh",
        "colab_type": "code",
        "outputId": "de47e2e6-b30d-45f4-97d9-b34f2f1e2948",
        "colab": {
          "base_uri": "https://localhost:8080/",
          "height": 119
        }
      },
      "cell_type": "code",
      "source": [
        "date_labels.head()"
      ],
      "execution_count": 0,
      "outputs": [
        {
          "output_type": "execute_result",
          "data": {
            "text/plain": [
              "299    1424910600\n",
              "300    1424912400\n",
              "301    1424914200\n",
              "302    1424916000\n",
              "303    1424917800\n",
              "Name: date, dtype: int64"
            ]
          },
          "metadata": {
            "tags": []
          },
          "execution_count": 20
        }
      ]
    },
    {
      "metadata": {
        "id": "sTIXbJ0JEBqv",
        "colab_type": "code",
        "outputId": "3ab9fadc-ad26-49b7-dca1-63cb6e18368f",
        "colab": {
          "base_uri": "https://localhost:8080/",
          "height": 34
        }
      },
      "cell_type": "code",
      "source": [
        "sum(map(lambda x,y: 1 if x>1.01*y else 0, dataF['high'][10000:], dataF['open'][10000:]))"
      ],
      "execution_count": 0,
      "outputs": [
        {
          "output_type": "execute_result",
          "data": {
            "text/plain": [
              "5516"
            ]
          },
          "metadata": {
            "tags": []
          },
          "execution_count": 21
        }
      ]
    },
    {
      "metadata": {
        "id": "Po0Il4HfEEiQ",
        "colab_type": "code",
        "outputId": "cec878eb-2bc2-4ab9-b170-d5eabd90f7ab",
        "colab": {
          "base_uri": "https://localhost:8080/",
          "height": 34
        }
      },
      "cell_type": "code",
      "source": [
        "sum( map(lambda x,y: 1 if x<.99*y else 0, dataF['low'][10000:], dataF['open'][10000:]) )"
      ],
      "execution_count": 0,
      "outputs": [
        {
          "output_type": "execute_result",
          "data": {
            "text/plain": [
              "5769"
            ]
          },
          "metadata": {
            "tags": []
          },
          "execution_count": 22
        }
      ]
    },
    {
      "metadata": {
        "id": "F0OaaJnCEGGu",
        "colab_type": "code",
        "outputId": "239df434-544c-4263-9de7-1b76f737fd18",
        "colab": {
          "base_uri": "https://localhost:8080/",
          "height": 34
        }
      },
      "cell_type": "code",
      "source": [
        "sum( map(lambda x,y,z: 1 if ((x<.99*y) & (z>1.01*y) ) else 0, dataF['low'][10000:], dataF['open'][10000:], dataF['high'][10000:]) )"
      ],
      "execution_count": 0,
      "outputs": [
        {
          "output_type": "execute_result",
          "data": {
            "text/plain": [
              "647"
            ]
          },
          "metadata": {
            "tags": []
          },
          "execution_count": 23
        }
      ]
    },
    {
      "metadata": {
        "id": "O7u_nvt4EH49",
        "colab_type": "code",
        "colab": {}
      },
      "cell_type": "code",
      "source": [
        "def y_labels(dataF, highThresh, lowThresh,num_dim, highCol = 'high', lowCol = 'low', openCol = 'open'):\n",
        "    ind_l = map(lambda x,y: 2 if x< (1 - lowThresh)*y else 0, dataF[lowCol], dataF[openCol]) \n",
        "    ind_h = map(lambda x,y: 1 if x> (1 + highThresh)*y else 0, dataF[highCol], dataF[openCol])\n",
        "    lables = list( map(add, ind_l, ind_h) )    \n",
        "    return lables[(num_dim):]"
      ],
      "execution_count": 0,
      "outputs": []
    },
    {
      "metadata": {
        "id": "aiBSTFIuEJh9",
        "colab_type": "code",
        "outputId": "f75cbb4d-a64c-43a0-9503-eeca2d14f1ff",
        "colab": {
          "base_uri": "https://localhost:8080/",
          "height": 51
        }
      },
      "cell_type": "code",
      "source": [
        "yLabels = y_labels(dataF, highThresh = 0.01, lowThresh = 0.01,num_dim = num_dim, highCol = 'high', lowCol = 'low', openCol = 'open')\n",
        "print yLabels[:5]\n",
        "print len(yLabels)"
      ],
      "execution_count": 0,
      "outputs": [
        {
          "output_type": "stream",
          "text": [
            "[0, 0, 0, 0, 0]\n",
            "61026\n"
          ],
          "name": "stdout"
        }
      ]
    },
    {
      "metadata": {
        "id": "APKPNT6GELV9",
        "colab_type": "code",
        "outputId": "9d77e178-1df7-4b50-d54d-ef090e51f6d6",
        "colab": {
          "base_uri": "https://localhost:8080/",
          "height": 85
        }
      },
      "cell_type": "code",
      "source": [
        "print \"number of rows with 0 class \" + str(sum([1 if x == 0 else 0 for x in yLabels[10000:]]))\n",
        "print \"number of rows with 1 class \" + str(sum([1 if x == 1 else 0 for x in yLabels[10000:]]))\n",
        "print \"number of rows with 2 class \" + str(sum([1 if x == 2 else 0 for x in yLabels[10000:]]))\n",
        "print \"number of rows with 3 class \" + str(sum([1 if x == 3 else 0 for x in yLabels[10000:]]))"
      ],
      "execution_count": 0,
      "outputs": [
        {
          "output_type": "stream",
          "text": [
            "number of rows with 0 class 40392\n",
            "number of rows with 1 class 4867\n",
            "number of rows with 2 class 5120\n",
            "number of rows with 3 class 647\n"
          ],
          "name": "stdout"
        }
      ]
    },
    {
      "metadata": {
        "id": "SW41v1rnEM2r",
        "colab_type": "code",
        "outputId": "261c1ef2-6128-49db-bae7-d999ea01c80e",
        "colab": {
          "base_uri": "https://localhost:8080/",
          "height": 153
        }
      },
      "cell_type": "code",
      "source": [
        "dataF_array_normalized = dataF_array[0:(dataF_array.shape[0] -1), :,:].copy()\n",
        "rem_list = np.ones(dataF_array_normalized.shape[0], dtype=bool)\n",
        "for i in range(dataF_array_normalized.shape[0]):\n",
        "    if ((dataF_array_normalized[i,0,3] ==0) or (dataF_array_normalized[i,0,4] ==0) or (dataF_array_normalized[i,0,5] ==0)):\n",
        "        rem_list[i]=False\n",
        "    dataF_array_normalized[i,:,0:3] = dataF_array_normalized[i,:,0:3]/dataF_array_normalized[i,0:1,3:4]\n",
        "    dataF_array_normalized[i,:,6] = dataF_array_normalized[i,:,6]/dataF_array_normalized[i,0:1,3]\n",
        "    dataF_array_normalized[i,:,3] = dataF_array_normalized[i,:,3]/dataF_array_normalized[i,0:1,3]\n",
        "    dataF_array_normalized[i,:,4] = dataF_array_normalized[i,:,4]/dataF_array_normalized[i,0:1,4]\n",
        "    dataF_array_normalized[i,:,5] = dataF_array_normalized[i,:,5]/dataF_array_normalized[i,0:1,5]\n",
        "    if np.isnan(dataF_array_normalized[i,:,:]).any():\n",
        "        rem_list[i]=False"
      ],
      "execution_count": 0,
      "outputs": [
        {
          "output_type": "stream",
          "text": [
            "/usr/local/lib/python2.7/dist-packages/ipykernel_launcher.py:9: RuntimeWarning: divide by zero encountered in divide\n",
            "  if __name__ == '__main__':\n",
            "/usr/local/lib/python2.7/dist-packages/ipykernel_launcher.py:9: RuntimeWarning: invalid value encountered in divide\n",
            "  if __name__ == '__main__':\n",
            "/usr/local/lib/python2.7/dist-packages/ipykernel_launcher.py:10: RuntimeWarning: divide by zero encountered in divide\n",
            "  # Remove the CWD from sys.path while we load stuff.\n",
            "/usr/local/lib/python2.7/dist-packages/ipykernel_launcher.py:10: RuntimeWarning: invalid value encountered in divide\n",
            "  # Remove the CWD from sys.path while we load stuff.\n"
          ],
          "name": "stderr"
        }
      ]
    },
    {
      "metadata": {
        "id": "pGnXHsOo_HPP",
        "colab_type": "code",
        "outputId": "630216de-8544-42ea-cec5-048a6070a059",
        "colab": {
          "base_uri": "https://localhost:8080/",
          "height": 34
        }
      },
      "cell_type": "code",
      "source": [
        "dataF_array_normalized.shape"
      ],
      "execution_count": 0,
      "outputs": [
        {
          "output_type": "execute_result",
          "data": {
            "text/plain": [
              "(61026, 300, 7)"
            ]
          },
          "metadata": {
            "tags": []
          },
          "execution_count": 28
        }
      ]
    },
    {
      "metadata": {
        "id": "S7p2WWdZEOu8",
        "colab_type": "code",
        "outputId": "a4914504-c8b1-4061-f3c9-ae4b6113188f",
        "colab": {
          "base_uri": "https://localhost:8080/",
          "height": 51
        }
      },
      "cell_type": "code",
      "source": [
        "print len(rem_list)\n",
        "print sum(rem_list)"
      ],
      "execution_count": 0,
      "outputs": [
        {
          "output_type": "stream",
          "text": [
            "61026\n",
            "49804\n"
          ],
          "name": "stdout"
        }
      ]
    },
    {
      "metadata": {
        "id": "ai2MMt5YERo1",
        "colab_type": "code",
        "outputId": "062cc58a-ff4c-4fa7-8668-9a742ad2090b",
        "colab": {
          "base_uri": "https://localhost:8080/",
          "height": 51
        }
      },
      "cell_type": "code",
      "source": [
        "dataF_array_normalized[-6:-5,0,:]"
      ],
      "execution_count": 0,
      "outputs": [
        {
          "output_type": "execute_result",
          "data": {
            "text/plain": [
              "array([[0.99535851, 1.00351641, 0.99471794, 1.        , 1.        ,\n",
              "        1.        , 0.99726668]])"
            ]
          },
          "metadata": {
            "tags": []
          },
          "execution_count": 30
        }
      ]
    },
    {
      "metadata": {
        "id": "BuJsvSILETee",
        "colab_type": "code",
        "outputId": "791b1ee3-4571-4b11-c725-d5953a18c451",
        "colab": {
          "base_uri": "https://localhost:8080/",
          "height": 68
        }
      },
      "cell_type": "code",
      "source": [
        "print sum(rem_list)\n",
        "print len(rem_list)\n",
        "print sum(rem_list[10000:])"
      ],
      "execution_count": 0,
      "outputs": [
        {
          "output_type": "stream",
          "text": [
            "49804\n",
            "61026\n",
            "48131\n"
          ],
          "name": "stdout"
        }
      ]
    },
    {
      "metadata": {
        "id": "SR7y4Gs5EVcn",
        "colab_type": "code",
        "outputId": "b4a521aa-f098-4aaf-f183-c3629c66e844",
        "colab": {
          "base_uri": "https://localhost:8080/",
          "height": 255
        }
      },
      "cell_type": "code",
      "source": [
        "a = np.reshape(np.float_(range(24)),(2,3,4) )\n",
        "b = a.copy()\n",
        "b[:,:,:2] = np.divide(a[:,:,:2],a[:,0:1,1:2])\n",
        "print a\n",
        "print b"
      ],
      "execution_count": 0,
      "outputs": [
        {
          "output_type": "stream",
          "text": [
            "[[[ 0.  1.  2.  3.]\n",
            "  [ 4.  5.  6.  7.]\n",
            "  [ 8.  9. 10. 11.]]\n",
            "\n",
            " [[12. 13. 14. 15.]\n",
            "  [16. 17. 18. 19.]\n",
            "  [20. 21. 22. 23.]]]\n",
            "[[[ 0.          1.          2.          3.        ]\n",
            "  [ 4.          5.          6.          7.        ]\n",
            "  [ 8.          9.         10.         11.        ]]\n",
            "\n",
            " [[ 0.92307692  1.         14.         15.        ]\n",
            "  [ 1.23076923  1.30769231 18.         19.        ]\n",
            "  [ 1.53846154  1.61538462 22.         23.        ]]]\n"
          ],
          "name": "stdout"
        }
      ]
    },
    {
      "metadata": {
        "id": "h6S5QkLDEZQG",
        "colab_type": "code",
        "outputId": "16d4d789-edab-4a18-91ef-6ecb5b946999",
        "colab": {
          "base_uri": "https://localhost:8080/",
          "height": 51
        }
      },
      "cell_type": "code",
      "source": [
        "print dataF_array_normalized.shape\n",
        "dataF_array_normalized= dataF_array_normalized[rem_list,:,:]\n",
        "print dataF_array_normalized.shape"
      ],
      "execution_count": 0,
      "outputs": [
        {
          "output_type": "stream",
          "text": [
            "(61026, 300, 7)\n",
            "(49804, 300, 7)\n"
          ],
          "name": "stdout"
        }
      ]
    },
    {
      "metadata": {
        "id": "jXZF7O53Ea6c",
        "colab_type": "code",
        "colab": {}
      },
      "cell_type": "code",
      "source": [
        "date_labels = date_labels.reset_index()"
      ],
      "execution_count": 0,
      "outputs": []
    },
    {
      "metadata": {
        "id": "VFYWn4LZEdGH",
        "colab_type": "code",
        "outputId": "2db93ed9-59d4-44cf-ff26-d0c0c44b2be7",
        "colab": {
          "base_uri": "https://localhost:8080/",
          "height": 204
        }
      },
      "cell_type": "code",
      "source": [
        "date_labels.head()"
      ],
      "execution_count": 0,
      "outputs": [
        {
          "output_type": "execute_result",
          "data": {
            "text/html": [
              "<div>\n",
              "<style scoped>\n",
              "    .dataframe tbody tr th:only-of-type {\n",
              "        vertical-align: middle;\n",
              "    }\n",
              "\n",
              "    .dataframe tbody tr th {\n",
              "        vertical-align: top;\n",
              "    }\n",
              "\n",
              "    .dataframe thead th {\n",
              "        text-align: right;\n",
              "    }\n",
              "</style>\n",
              "<table border=\"1\" class=\"dataframe\">\n",
              "  <thead>\n",
              "    <tr style=\"text-align: right;\">\n",
              "      <th></th>\n",
              "      <th>index</th>\n",
              "      <th>date</th>\n",
              "    </tr>\n",
              "  </thead>\n",
              "  <tbody>\n",
              "    <tr>\n",
              "      <th>0</th>\n",
              "      <td>299</td>\n",
              "      <td>1424910600</td>\n",
              "    </tr>\n",
              "    <tr>\n",
              "      <th>1</th>\n",
              "      <td>300</td>\n",
              "      <td>1424912400</td>\n",
              "    </tr>\n",
              "    <tr>\n",
              "      <th>2</th>\n",
              "      <td>301</td>\n",
              "      <td>1424914200</td>\n",
              "    </tr>\n",
              "    <tr>\n",
              "      <th>3</th>\n",
              "      <td>302</td>\n",
              "      <td>1424916000</td>\n",
              "    </tr>\n",
              "    <tr>\n",
              "      <th>4</th>\n",
              "      <td>303</td>\n",
              "      <td>1424917800</td>\n",
              "    </tr>\n",
              "  </tbody>\n",
              "</table>\n",
              "</div>"
            ],
            "text/plain": [
              "   index        date\n",
              "0    299  1424910600\n",
              "1    300  1424912400\n",
              "2    301  1424914200\n",
              "3    302  1424916000\n",
              "4    303  1424917800"
            ]
          },
          "metadata": {
            "tags": []
          },
          "execution_count": 35
        }
      ]
    },
    {
      "metadata": {
        "id": "7WxdKnrvEeh9",
        "colab_type": "code",
        "outputId": "c4d90721-82c6-4c60-d9df-e61f27b00f99",
        "colab": {
          "base_uri": "https://localhost:8080/",
          "height": 119
        }
      },
      "cell_type": "code",
      "source": [
        "date_labels = date_labels['date']\n",
        "date_labels.head()"
      ],
      "execution_count": 0,
      "outputs": [
        {
          "output_type": "execute_result",
          "data": {
            "text/plain": [
              "0    1424910600\n",
              "1    1424912400\n",
              "2    1424914200\n",
              "3    1424916000\n",
              "4    1424917800\n",
              "Name: date, dtype: int64"
            ]
          },
          "metadata": {
            "tags": []
          },
          "execution_count": 36
        }
      ]
    },
    {
      "metadata": {
        "id": "sMAs_YwaEgPV",
        "colab_type": "code",
        "outputId": "35e07e76-5451-4cea-943a-6e546430d6a0",
        "colab": {
          "base_uri": "https://localhost:8080/",
          "height": 34
        }
      },
      "cell_type": "code",
      "source": [
        "date_labels_filtered = date_labels[:-1][rem_list]\n",
        "date_labels_filtered.shape"
      ],
      "execution_count": 0,
      "outputs": [
        {
          "output_type": "execute_result",
          "data": {
            "text/plain": [
              "(49804,)"
            ]
          },
          "metadata": {
            "tags": []
          },
          "execution_count": 37
        }
      ]
    },
    {
      "metadata": {
        "id": "8274VTAuEhxV",
        "colab_type": "code",
        "outputId": "e2948a65-28c4-4904-f097-f29cf3c84c1b",
        "colab": {
          "base_uri": "https://localhost:8080/",
          "height": 51
        }
      },
      "cell_type": "code",
      "source": [
        "print len(rem_list)\n",
        "print len(yLabels)"
      ],
      "execution_count": 0,
      "outputs": [
        {
          "output_type": "stream",
          "text": [
            "61026\n",
            "61026\n"
          ],
          "name": "stdout"
        }
      ]
    },
    {
      "metadata": {
        "id": "XnOPEw0aEjN1",
        "colab_type": "code",
        "outputId": "cd37af08-49e6-43ea-8714-93fdd6acd536",
        "colab": {
          "base_uri": "https://localhost:8080/",
          "height": 34
        }
      },
      "cell_type": "code",
      "source": [
        "yLabels_filtered = []\n",
        "\n",
        "for m in range(len(rem_list)):\n",
        "    if rem_list[m]:\n",
        "        yLabels_filtered.append(yLabels[m])\n",
        "\n",
        "len(yLabels_filtered)\n",
        "\n"
      ],
      "execution_count": 0,
      "outputs": [
        {
          "output_type": "execute_result",
          "data": {
            "text/plain": [
              "49804"
            ]
          },
          "metadata": {
            "tags": []
          },
          "execution_count": 39
        }
      ]
    },
    {
      "metadata": {
        "id": "jq26r3HeEk11",
        "colab_type": "code",
        "colab": {}
      },
      "cell_type": "code",
      "source": [
        "def LSTM_v1(input_shape):\n",
        "    \"\"\"\n",
        "    Function creating the Emojify-v2 model's graph.\n",
        "    \n",
        "    Arguments:\n",
        "    input_shape -- shape of the input, usually (max_len,)\n",
        "    word_to_vec_map -- dictionary mapping every word in a vocabulary into its 50-dimensional vector representation\n",
        "    word_to_index -- dictionary mapping from words to their indices in the vocabulary (400,001 words)\n",
        "​\n",
        "    Returns:\n",
        "    model -- a model instance in Keras\n",
        "    \"\"\"\n",
        "    \n",
        "    ### START CODE HERE ###\n",
        "    # Define sentence_indices as the input of the graph, it should be of shape input_shape and dtype 'int32' (as it contains indices).\n",
        "    series300 = Input(shape = input_shape, dtype='float32')\n",
        "    \n",
        "    \n",
        "    # Propagate the embeddings through an LSTM layer with 128-dimensional hidden state\n",
        "    # Be careful, the returned output should be a batch of sequences.\n",
        "    X = LSTM(1024,return_sequences=True)(series300)\n",
        "    # Add dropout with a probability of 0.5\n",
        "    X = Dropout(0.5) (X)\n",
        "    # Propagate X trough another LSTM layer with 128-dimensional hidden state\n",
        "    # Be careful, the returned output should be a single hidden state, not a batch of sequences.\n",
        "    X = LSTM(1024,return_sequences=False)(X)\n",
        "    # Add dropout with a probability of 0.5\n",
        "    X = Dropout(0.5) (X)\n",
        "    # Propagate X through a Dense layer with softmax activation to get back a batch of 5-dimensional vectors.\n",
        "    X = Dense(4)(X)\n",
        "    # Add a softmax activation\n",
        "    X = Activation('softmax')(X)\n",
        "    \n",
        "    # Create Model instance which converts sentence_indices into X.\n",
        "    model = Model(inputs=series300,outputs=X)\n",
        "    \n",
        "    ### END CODE HERE ###\n",
        "    \n",
        "    return model"
      ],
      "execution_count": 0,
      "outputs": []
    },
    {
      "metadata": {
        "id": "z4OCfTIsLK82",
        "colab_type": "code",
        "outputId": "fad95e5b-55f8-409c-ab3a-25a8de6647d2",
        "colab": {
          "base_uri": "https://localhost:8080/",
          "height": 374
        }
      },
      "cell_type": "code",
      "source": [
        "model1 = LSTM_v1((num_dim,len(feature_list)))\n",
        "model1.summary()"
      ],
      "execution_count": 0,
      "outputs": [
        {
          "output_type": "stream",
          "text": [
            "_________________________________________________________________\n",
            "Layer (type)                 Output Shape              Param #   \n",
            "=================================================================\n",
            "input_3 (InputLayer)         (None, 300, 7)            0         \n",
            "_________________________________________________________________\n",
            "lstm_5 (LSTM)                (None, 300, 1024)         4227072   \n",
            "_________________________________________________________________\n",
            "dropout_3 (Dropout)          (None, 300, 1024)         0         \n",
            "_________________________________________________________________\n",
            "lstm_6 (LSTM)                (None, 1024)              8392704   \n",
            "_________________________________________________________________\n",
            "dropout_4 (Dropout)          (None, 1024)              0         \n",
            "_________________________________________________________________\n",
            "dense_2 (Dense)              (None, 4)                 4100      \n",
            "_________________________________________________________________\n",
            "activation_2 (Activation)    (None, 4)                 0         \n",
            "=================================================================\n",
            "Total params: 12,623,876\n",
            "Trainable params: 12,623,876\n",
            "Non-trainable params: 0\n",
            "_________________________________________________________________\n"
          ],
          "name": "stdout"
        }
      ]
    },
    {
      "metadata": {
        "id": "QhHm_uGHINEO",
        "colab_type": "code",
        "colab": {}
      },
      "cell_type": "code",
      "source": [
        "def LSTM_v2(input_shape2):\n",
        "\n",
        "  model = tf.keras.models.Sequential()\n",
        "  #model.add(Input(shape = input_shape, dtype='float32'))\n",
        "  model.add(tf.keras.layers.LSTM(900,return_sequences=True, input_shape=input_shape2))\n",
        "  #model.add(tf.keras.layers.Dropout(0.5))\n",
        "  model.add(tf.keras.layers.LSTM(900,return_sequences=False))\n",
        "  #model.add(tf.keras.layers.Dropout(0.5))\n",
        "  model.add(tf.keras.layers.Dense(4))\n",
        "  model.add(tf.keras.layers.Activation('softmax'))\n",
        "  return model"
      ],
      "execution_count": 0,
      "outputs": []
    },
    {
      "metadata": {
        "id": "_Rxq3FgxGFaM",
        "colab_type": "code",
        "outputId": "c915d62f-14c0-466a-f324-f8a8cfaa72d4",
        "colab": {
          "base_uri": "https://localhost:8080/",
          "height": 272
        }
      },
      "cell_type": "code",
      "source": [
        "model = LSTM_v2((num_dim,len(feature_list)))\n",
        "model.summary()"
      ],
      "execution_count": 0,
      "outputs": [
        {
          "output_type": "stream",
          "text": [
            "_________________________________________________________________\n",
            "Layer (type)                 Output Shape              Param #   \n",
            "=================================================================\n",
            "lstm (LSTM)                  (None, 300, 900)          3268800   \n",
            "_________________________________________________________________\n",
            "lstm_1 (LSTM)                (None, 900)               6483600   \n",
            "_________________________________________________________________\n",
            "dense (Dense)                (None, 4)                 3604      \n",
            "_________________________________________________________________\n",
            "activation (Activation)      (None, 4)                 0         \n",
            "=================================================================\n",
            "Total params: 9,756,004\n",
            "Trainable params: 9,756,004\n",
            "Non-trainable params: 0\n",
            "_________________________________________________________________\n"
          ],
          "name": "stdout"
        }
      ]
    },
    {
      "metadata": {
        "id": "wEx7gBfoGAOi",
        "colab_type": "code",
        "outputId": "4fcad82b-c0ef-4edc-ffb9-8590516fcfd1",
        "colab": {
          "base_uri": "https://localhost:8080/",
          "height": 363
        }
      },
      "cell_type": "code",
      "source": [
        "import os\n",
        "tpu_model = tf.contrib.tpu.keras_to_tpu_model(\n",
        "    model,\n",
        "    strategy=tf.contrib.tpu.TPUDistributionStrategy(\n",
        "        tf.contrib.cluster_resolver.TPUClusterResolver(tpu='grpc://' + os.environ['COLAB_TPU_ADDR'])\n",
        "    )\n",
        ")\n"
      ],
      "execution_count": 0,
      "outputs": [
        {
          "output_type": "stream",
          "text": [
            "INFO:tensorflow:Querying Tensorflow master (grpc://10.12.78.210:8470) for TPU system metadata.\n",
            "INFO:tensorflow:Found TPU system:\n",
            "INFO:tensorflow:*** Num TPU Cores: 8\n",
            "INFO:tensorflow:*** Num TPU Workers: 1\n",
            "INFO:tensorflow:*** Num TPU Cores Per Worker: 8\n",
            "INFO:tensorflow:*** Available Device: _DeviceAttributes(/job:worker/replica:0/task:0/device:CPU:0, CPU, -1, 11301230712344873541)\n",
            "INFO:tensorflow:*** Available Device: _DeviceAttributes(/job:worker/replica:0/task:0/device:XLA_CPU:0, XLA_CPU, 17179869184, 16351604455690143845)\n",
            "INFO:tensorflow:*** Available Device: _DeviceAttributes(/job:worker/replica:0/task:0/device:XLA_GPU:0, XLA_GPU, 17179869184, 3894047179314640520)\n",
            "INFO:tensorflow:*** Available Device: _DeviceAttributes(/job:worker/replica:0/task:0/device:TPU:0, TPU, 17179869184, 9012046319262189758)\n",
            "INFO:tensorflow:*** Available Device: _DeviceAttributes(/job:worker/replica:0/task:0/device:TPU:1, TPU, 17179869184, 8202470572403837219)\n",
            "INFO:tensorflow:*** Available Device: _DeviceAttributes(/job:worker/replica:0/task:0/device:TPU:2, TPU, 17179869184, 13205001964270948254)\n",
            "INFO:tensorflow:*** Available Device: _DeviceAttributes(/job:worker/replica:0/task:0/device:TPU:3, TPU, 17179869184, 13474446142629231115)\n",
            "INFO:tensorflow:*** Available Device: _DeviceAttributes(/job:worker/replica:0/task:0/device:TPU:4, TPU, 17179869184, 6265955925047706165)\n",
            "INFO:tensorflow:*** Available Device: _DeviceAttributes(/job:worker/replica:0/task:0/device:TPU:5, TPU, 17179869184, 11101803346438975014)\n",
            "INFO:tensorflow:*** Available Device: _DeviceAttributes(/job:worker/replica:0/task:0/device:TPU:6, TPU, 17179869184, 14692323895424760719)\n",
            "INFO:tensorflow:*** Available Device: _DeviceAttributes(/job:worker/replica:0/task:0/device:TPU:7, TPU, 17179869184, 16940306085293883651)\n",
            "INFO:tensorflow:*** Available Device: _DeviceAttributes(/job:worker/replica:0/task:0/device:TPU_SYSTEM:0, TPU_SYSTEM, 17179869184, 13568338649251492463)\n",
            "WARNING:tensorflow:tpu_model (from tensorflow.contrib.tpu.python.tpu.keras_support) is experimental and may change or be removed at any time, and without warning.\n"
          ],
          "name": "stdout"
        }
      ]
    },
    {
      "metadata": {
        "id": "GE0KgSmsGlaV",
        "colab_type": "code",
        "colab": {}
      },
      "cell_type": "code",
      "source": [
        "tpu_model.compile(\n",
        "    optimizer=tf.train.AdamOptimizer(),\n",
        "    loss=tf.keras.losses.categorical_crossentropy,\n",
        "    metrics=['categorical_accuracy']\n",
        ")\n",
        "\n"
      ],
      "execution_count": 0,
      "outputs": []
    },
    {
      "metadata": {
        "id": "yxPlwq87LmWd",
        "colab_type": "code",
        "colab": {}
      },
      "cell_type": "code",
      "source": [
        "def convert_to_one_hot(Y, C):\n",
        "    Y = np.eye(C)[Y.reshape(-1)]\n",
        "    return Y"
      ],
      "execution_count": 0,
      "outputs": []
    },
    {
      "metadata": {
        "id": "sxeM5FSiLqtx",
        "colab_type": "code",
        "colab": {}
      },
      "cell_type": "code",
      "source": [
        "Y_oh = convert_to_one_hot(np.array(yLabels_filtered), C = 4)"
      ],
      "execution_count": 0,
      "outputs": []
    },
    {
      "metadata": {
        "id": "PUJ4rMYXLq4T",
        "colab_type": "code",
        "colab": {}
      },
      "cell_type": "code",
      "source": [
        "X_train = dataF_array_normalized[:-10000,:,:]\n",
        "X_test = dataF_array_normalized[-10000:,:,:]\n",
        "Y_train = Y_oh[:-10000,:]\n",
        "Y_test = Y_oh[-10000:,:]"
      ],
      "execution_count": 0,
      "outputs": []
    },
    {
      "metadata": {
        "id": "dQUPeR-HLt_F",
        "colab_type": "code",
        "outputId": "27b488c8-0331-44ee-c5a1-c49000911a3d",
        "colab": {
          "base_uri": "https://localhost:8080/",
          "height": 85
        }
      },
      "cell_type": "code",
      "source": [
        "print X_train.shape\n",
        "print X_test.shape\n",
        "print Y_train.shape\n",
        "print Y_test.shape"
      ],
      "execution_count": 0,
      "outputs": [
        {
          "output_type": "stream",
          "text": [
            "(39804, 300, 7)\n",
            "(10000, 300, 7)\n",
            "(39804, 4)\n",
            "(10000, 4)\n"
          ],
          "name": "stdout"
        }
      ]
    },
    {
      "metadata": {
        "id": "dLq_age5L8M7",
        "colab_type": "code",
        "colab": {}
      },
      "cell_type": "code",
      "source": [
        "def train_gen(batch_size):\n",
        "  while True:\n",
        "    offset = np.random.randint(0, X_train.shape[0] - batch_size)\n",
        "    yield X_train[offset:offset+batch_size], Y_train[offset:offset + batch_size]\n",
        "    "
      ],
      "execution_count": 0,
      "outputs": []
    },
    {
      "metadata": {
        "id": "1HNF5u7gLuCD",
        "colab_type": "code",
        "outputId": "8ce3a660-6896-4f84-ac02-737d24f5882e",
        "colab": {
          "base_uri": "https://localhost:8080/",
          "height": 1020
        }
      },
      "cell_type": "code",
      "source": [
        "import time\n",
        "start = time.time()\n",
        "\n",
        "tpu_model.fit_generator(\n",
        "    train_gen(64),\n",
        "    epochs=5,\n",
        "    steps_per_epoch=750,\n",
        "    validation_data=(X_test, Y_test),\n",
        "    class_weight = {0:1,1:8,2:8,3:40}\n",
        ")\n",
        "\n",
        "end = time.time()\n",
        "print(end - start)"
      ],
      "execution_count": 0,
      "outputs": [
        {
          "output_type": "stream",
          "text": [
            "Epoch 1/5\n",
            "INFO:tensorflow:New input shapes; (re-)compiling: mode=train (# of cores 8), [TensorSpec(shape=(8,), dtype=tf.int32, name=u'core_id_40'), TensorSpec(shape=(8, 300, 7), dtype=tf.float32, name=u'lstm_4_input_10'), TensorSpec(shape=(8, 4), dtype=tf.float32, name=u'activation_2_target_10')]\n",
            "INFO:tensorflow:Overriding default placeholder.\n",
            "INFO:tensorflow:Remapping placeholder for lstm_4_input\n",
            "INFO:tensorflow:Started compiling\n",
            "INFO:tensorflow:Finished compiling. Time elapsed: 44.0488660336 secs\n",
            "INFO:tensorflow:Setting weights on TPU model.\n",
            "749/750 [============================>.] - ETA: 0s - loss: 0.7175 - categorical_accuracy: 0.7943INFO:tensorflow:New input shapes; (re-)compiling: mode=eval (# of cores 8), [TensorSpec(shape=(8,), dtype=tf.int32, name=u'core_id_50'), TensorSpec(shape=(8, 300, 7), dtype=tf.float32, name=u'lstm_4_input_10'), TensorSpec(shape=(8, 4), dtype=tf.float32, name=u'activation_2_target_10')]\n",
            "INFO:tensorflow:Overriding default placeholder.\n",
            "INFO:tensorflow:Remapping placeholder for lstm_4_input\n",
            "INFO:tensorflow:Started compiling\n",
            "INFO:tensorflow:Finished compiling. Time elapsed: 37.8692479134 secs\n",
            "INFO:tensorflow:New input shapes; (re-)compiling: mode=eval (# of cores 8), [TensorSpec(shape=(2,), dtype=tf.int32, name=u'core_id_50'), TensorSpec(shape=(2, 300, 7), dtype=tf.float32, name=u'lstm_4_input_10'), TensorSpec(shape=(2, 4), dtype=tf.float32, name=u'activation_2_target_10')]\n",
            "INFO:tensorflow:Overriding default placeholder.\n",
            "INFO:tensorflow:Remapping placeholder for lstm_4_input\n",
            "INFO:tensorflow:Started compiling\n",
            "INFO:tensorflow:Finished compiling. Time elapsed: 39.6244351864 secs\n",
            "750/750 [==============================] - 662s 883ms/step - loss: 0.7175 - categorical_accuracy: 0.7943 - val_loss: 0.6794 - val_categorical_accuracy: 0.8024\n",
            "Epoch 2/5\n",
            "750/750 [==============================] - 464s 619ms/step - loss: 0.7636 - categorical_accuracy: 0.7927 - val_loss: 0.6642 - val_categorical_accuracy: 0.8024\n",
            "Epoch 3/5\n",
            "750/750 [==============================] - 465s 619ms/step - loss: 0.6866 - categorical_accuracy: 0.8083 - val_loss: 0.7501 - val_categorical_accuracy: 0.8024\n",
            "Epoch 4/5\n",
            "750/750 [==============================] - 465s 620ms/step - loss: 0.7302 - categorical_accuracy: 0.7922 - val_loss: 0.6922 - val_categorical_accuracy: 0.8024\n",
            "Epoch 5/5\n",
            " 19/750 [..............................] - ETA: 7:22 - loss: 0.8042 - categorical_accuracy: 0.7525"
          ],
          "name": "stdout"
        }
      ]
    },
    {
      "metadata": {
        "id": "JOckSX7XLuHb",
        "colab_type": "code",
        "outputId": "516b7daa-5877-4ae1-cd77-9dbe85fc80f9",
        "colab": {
          "base_uri": "https://localhost:8080/",
          "height": 34
        }
      },
      "cell_type": "code",
      "source": [
        "cpu_model = tpu_model.sync_to_cpu()"
      ],
      "execution_count": 0,
      "outputs": [
        {
          "output_type": "stream",
          "text": [
            "INFO:tensorflow:Copying TPU weights to the CPU\n"
          ],
          "name": "stdout"
        }
      ]
    },
    {
      "metadata": {
        "id": "FA_cS2TOLuFK",
        "colab_type": "code",
        "outputId": "b26683df-e25f-4f93-9e28-80a028821828",
        "colab": {
          "base_uri": "https://localhost:8080/",
          "height": 136
        }
      },
      "cell_type": "code",
      "source": [
        "pred = cpu_model.predict(X_test)\n",
        "pred"
      ],
      "execution_count": 0,
      "outputs": [
        {
          "output_type": "execute_result",
          "data": {
            "text/plain": [
              "array([[0.75540286, 0.11772798, 0.11429932, 0.01256985],\n",
              "       [0.754356  , 0.11902273, 0.11366335, 0.0129578 ],\n",
              "       [0.7558195 , 0.11768091, 0.11365362, 0.01284598],\n",
              "       ...,\n",
              "       [0.75511926, 0.11751613, 0.11487626, 0.01248827],\n",
              "       [0.7552632 , 0.11768901, 0.11450414, 0.01254372],\n",
              "       [0.7548958 , 0.11821795, 0.11413296, 0.01275336]], dtype=float32)"
            ]
          },
          "metadata": {
            "tags": []
          },
          "execution_count": 79
        }
      ]
    },
    {
      "metadata": {
        "id": "xzLbsU2uGP7h",
        "colab_type": "code",
        "outputId": "18bcfd9c-f50a-4a74-ba6f-5929f631db7b",
        "colab": {
          "base_uri": "https://localhost:8080/",
          "height": 34
        }
      },
      "cell_type": "code",
      "source": [
        "pred_class=[]\n",
        "for i in range(len(pred)):\n",
        "    pred_class.append(np.argmax(pred[i]))\n",
        "pred_class[:5]"
      ],
      "execution_count": 0,
      "outputs": [
        {
          "output_type": "execute_result",
          "data": {
            "text/plain": [
              "[0, 0, 0, 0, 0]"
            ]
          },
          "metadata": {
            "tags": []
          },
          "execution_count": 80
        }
      ]
    },
    {
      "metadata": {
        "id": "6RK5Bo-oGjRQ",
        "colab_type": "code",
        "outputId": "8aaabc2c-3ed9-4b7a-9c92-020ad0fe8e46",
        "colab": {
          "base_uri": "https://localhost:8080/",
          "height": 85
        }
      },
      "cell_type": "code",
      "source": [
        "print \"number of 0 labels \" + str(sum(map(lambda x: 1 if x==0 else 0, yLabels_filtered[:-10000] )))\n",
        "print \"number of 1 labels \" + str(sum(map(lambda x: 1 if x==1 else 0, yLabels_filtered[:-10000] )))\n",
        "print \"number of 2 labels \" + str(sum(map(lambda x: 1 if x==2 else 0, yLabels_filtered[:-10000] )))\n",
        "print \"number of 3 labels \" + str(sum(map(lambda x: 1 if x==3 else 0, yLabels_filtered[:-10000] )))"
      ],
      "execution_count": 0,
      "outputs": [
        {
          "output_type": "stream",
          "text": [
            "number of 0 labels 31571\n",
            "number of 1 labels 3782\n",
            "number of 2 labels 3895\n",
            "number of 3 labels 556\n"
          ],
          "name": "stdout"
        }
      ]
    },
    {
      "metadata": {
        "id": "iKOWjXIqahvh",
        "colab_type": "code",
        "outputId": "95b0ba54-a2d7-492a-bb0c-32464af0698c",
        "colab": {
          "base_uri": "https://localhost:8080/",
          "height": 85
        }
      },
      "cell_type": "code",
      "source": [
        "print 29326.0/len(yLabels_filtered[:-10000])\n",
        "print 3635.0/len(yLabels_filtered[:-10000])\n",
        "print 3793.0/len(yLabels_filtered[:-10000])\n",
        "print 539.0/len(yLabels_filtered[:-10000])"
      ],
      "execution_count": 0,
      "outputs": [
        {
          "output_type": "stream",
          "text": [
            "0.736760124611\n",
            "0.0913224801527\n",
            "0.0952919304593\n",
            "0.0135413526279\n"
          ],
          "name": "stdout"
        }
      ]
    },
    {
      "metadata": {
        "id": "AgF1LoUvahyy",
        "colab_type": "code",
        "outputId": "58d121be-2d9b-4c27-de92-5cd51d34d889",
        "colab": {
          "base_uri": "https://localhost:8080/",
          "height": 85
        }
      },
      "cell_type": "code",
      "source": [
        "print \"number of 0 labels \" + str(sum(map(lambda x: 1 if x==0 else 0, pred_class )))\n",
        "print \"number of 1 labels \" + str(sum(map(lambda x: 1 if x==1 else 0, pred_class )))\n",
        "print \"number of 2 labels \" + str(sum(map(lambda x: 1 if x==2 else 0, pred_class )))\n",
        "print \"number of 3 labels \" + str(sum(map(lambda x: 1 if x==3 else 0, pred_class )))"
      ],
      "execution_count": 0,
      "outputs": [
        {
          "output_type": "stream",
          "text": [
            "number of 0 labels 10000\n",
            "number of 1 labels 0\n",
            "number of 2 labels 0\n",
            "number of 3 labels 0\n"
          ],
          "name": "stdout"
        }
      ]
    },
    {
      "metadata": {
        "id": "Mvf-kJ6rah4v",
        "colab_type": "code",
        "outputId": "439d573c-77d1-486b-a11c-f6539ecaeea9",
        "colab": {
          "base_uri": "https://localhost:8080/",
          "height": 85
        }
      },
      "cell_type": "code",
      "source": [
        "yLabels_filtered[-10000:]\n",
        "print \"number of 0 labels \" + str(sum(map(lambda x: 1 if x==0 else 0, yLabels_filtered[-10000:] )))\n",
        "print \"number of 1 labels \" + str(sum(map(lambda x: 1 if x==1 else 0, yLabels_filtered[-10000:] )))\n",
        "print \"number of 2 labels \" + str(sum(map(lambda x: 1 if x==2 else 0, yLabels_filtered[-10000:] )))\n",
        "print \"number of 3 labels \" + str(sum(map(lambda x: 1 if x==3 else 0, yLabels_filtered[-10000:] )))"
      ],
      "execution_count": 0,
      "outputs": [
        {
          "output_type": "stream",
          "text": [
            "number of 0 labels 8024\n",
            "number of 1 labels 867\n",
            "number of 2 labels 1038\n",
            "number of 3 labels 71\n"
          ],
          "name": "stdout"
        }
      ]
    },
    {
      "metadata": {
        "id": "tNQ3reWRLf7q",
        "colab_type": "code",
        "colab": {}
      },
      "cell_type": "code",
      "source": [
        ""
      ],
      "execution_count": 0,
      "outputs": []
    },
    {
      "metadata": {
        "id": "AXQH3Rw_PM_Z",
        "colab_type": "code",
        "colab": {}
      },
      "cell_type": "code",
      "source": [
        "pred_0_class = pred[:,0]"
      ],
      "execution_count": 0,
      "outputs": []
    },
    {
      "metadata": {
        "id": "-a7qfdOgTf0U",
        "colab_type": "code",
        "colab": {}
      },
      "cell_type": "code",
      "source": [
        "pred_1_class = pred[:,1]"
      ],
      "execution_count": 0,
      "outputs": []
    },
    {
      "metadata": {
        "id": "wh-Fi_PHPP-o",
        "colab_type": "code",
        "outputId": "2a84ea89-c86d-4bc9-aef8-fb7f41d698d2",
        "colab": {
          "base_uri": "https://localhost:8080/",
          "height": 51
        }
      },
      "cell_type": "code",
      "source": [
        "pred_0_class"
      ],
      "execution_count": 0,
      "outputs": [
        {
          "output_type": "execute_result",
          "data": {
            "text/plain": [
              "array([0.75540286, 0.754356  , 0.7558195 , ..., 0.75511926, 0.7552632 ,\n",
              "       0.7548958 ], dtype=float32)"
            ]
          },
          "metadata": {
            "tags": []
          },
          "execution_count": 87
        }
      ]
    },
    {
      "metadata": {
        "id": "f8ZFPzeJPRg_",
        "colab_type": "code",
        "colab": {}
      },
      "cell_type": "code",
      "source": [
        "pred_non_0_class = 1 - pred_0_class"
      ],
      "execution_count": 0,
      "outputs": []
    },
    {
      "metadata": {
        "id": "_0Hjb3A6PWbG",
        "colab_type": "code",
        "outputId": "a6adf9d1-db68-4b1b-e6ba-ca1504338f24",
        "colab": {
          "base_uri": "https://localhost:8080/",
          "height": 51
        }
      },
      "cell_type": "code",
      "source": [
        "pred_non_0_class"
      ],
      "execution_count": 0,
      "outputs": [
        {
          "output_type": "execute_result",
          "data": {
            "text/plain": [
              "array([0.24459714, 0.24564397, 0.2441805 , ..., 0.24488074, 0.24473679,\n",
              "       0.2451042 ], dtype=float32)"
            ]
          },
          "metadata": {
            "tags": []
          },
          "execution_count": 89
        }
      ]
    },
    {
      "metadata": {
        "id": "crW9FH8RPXf2",
        "colab_type": "code",
        "colab": {}
      },
      "cell_type": "code",
      "source": [
        "yLabels_filtered_non_0_class = [0 if x == 0 else 1 for x in yLabels_filtered[-10000:]]"
      ],
      "execution_count": 0,
      "outputs": []
    },
    {
      "metadata": {
        "id": "l4v0hGLlTlgf",
        "colab_type": "code",
        "colab": {}
      },
      "cell_type": "code",
      "source": [
        "yLabels_filtered_1_class = [1 if x == 1 else 0 for x in yLabels_filtered[-10000:]]"
      ],
      "execution_count": 0,
      "outputs": []
    },
    {
      "metadata": {
        "id": "7hl0AF5CPd3i",
        "colab_type": "code",
        "outputId": "6e8f6d60-60b4-4572-f0af-3e4b81060a6a",
        "colab": {
          "base_uri": "https://localhost:8080/",
          "height": 68
        }
      },
      "cell_type": "code",
      "source": [
        "print min(yLabels_filtered_non_0_class)\n",
        "print max(yLabels_filtered_non_0_class)\n",
        "print sum(yLabels_filtered_non_0_class)"
      ],
      "execution_count": 0,
      "outputs": [
        {
          "output_type": "stream",
          "text": [
            "0\n",
            "1\n",
            "1976\n"
          ],
          "name": "stdout"
        }
      ]
    },
    {
      "metadata": {
        "id": "G8jCgrtsTs1E",
        "colab_type": "code",
        "outputId": "9c775c55-fe1e-4138-8f2e-106657a19350",
        "colab": {
          "base_uri": "https://localhost:8080/",
          "height": 68
        }
      },
      "cell_type": "code",
      "source": [
        "print min(yLabels_filtered_1_class)\n",
        "print max(yLabels_filtered_1_class)\n",
        "print sum(yLabels_filtered_1_class)"
      ],
      "execution_count": 0,
      "outputs": [
        {
          "output_type": "stream",
          "text": [
            "0\n",
            "1\n",
            "867\n"
          ],
          "name": "stdout"
        }
      ]
    },
    {
      "metadata": {
        "id": "F0zArmW6PpBG",
        "colab_type": "code",
        "colab": {}
      },
      "cell_type": "code",
      "source": [
        "pred_non_0_class_list = list(pred_non_0_class)"
      ],
      "execution_count": 0,
      "outputs": []
    },
    {
      "metadata": {
        "id": "5inwhVoUTyVC",
        "colab_type": "code",
        "colab": {}
      },
      "cell_type": "code",
      "source": [
        "pred_1_class_list = list(pred_1_class)"
      ],
      "execution_count": 0,
      "outputs": []
    },
    {
      "metadata": {
        "id": "hjvcdeEgQNlV",
        "colab_type": "code",
        "colab": {}
      },
      "cell_type": "code",
      "source": [
        "from sklearn.metrics import precision_recall_curve, roc_curve, auc\n",
        "m = precision_recall_curve(yLabels_filtered_non_0_class, pred_non_0_class_list)\n",
        "m_1 = precision_recall_curve(yLabels_filtered_1_class, pred_1_class_list)"
      ],
      "execution_count": 0,
      "outputs": []
    },
    {
      "metadata": {
        "id": "zIVtdlZaRKPy",
        "colab_type": "code",
        "outputId": "cb0951ed-c641-466f-d1d4-b79982e8181b",
        "colab": {
          "base_uri": "https://localhost:8080/",
          "height": 119
        }
      },
      "cell_type": "code",
      "source": [
        "m"
      ],
      "execution_count": 0,
      "outputs": [
        {
          "output_type": "execute_result",
          "data": {
            "text/plain": [
              "(array([0.1976593 , 0.19757903, 0.1975988 , ..., 0.        , 0.        ,\n",
              "        1.        ]),\n",
              " array([1.        , 0.99949393, 0.99949393, ..., 0.        , 0.        ,\n",
              "        0.        ]),\n",
              " array([0.24192548, 0.2419433 , 0.24194866, ..., 0.28920233, 0.2981143 ,\n",
              "        0.3083095 ], dtype=float32))"
            ]
          },
          "metadata": {
            "tags": []
          },
          "execution_count": 97
        }
      ]
    },
    {
      "metadata": {
        "id": "igaACIyjUVmT",
        "colab_type": "code",
        "outputId": "4c5926cf-9cee-44d0-8f9c-d34805aa66d6",
        "colab": {
          "base_uri": "https://localhost:8080/",
          "height": 119
        }
      },
      "cell_type": "code",
      "source": [
        "m_1"
      ],
      "execution_count": 0,
      "outputs": [
        {
          "output_type": "execute_result",
          "data": {
            "text/plain": [
              "(array([0.08686504, 0.08677355, 0.08678224, ..., 0.        , 0.        ,\n",
              "        1.        ]),\n",
              " array([1.       , 0.9988466, 0.9988466, ..., 0.       , 0.       ,\n",
              "        0.       ]),\n",
              " array([0.11526732, 0.1152778 , 0.11528911, ..., 0.15658648, 0.15685368,\n",
              "        0.15890971], dtype=float32))"
            ]
          },
          "metadata": {
            "tags": []
          },
          "execution_count": 98
        }
      ]
    },
    {
      "metadata": {
        "id": "w2XYydDrQOtM",
        "colab_type": "code",
        "outputId": "37c56068-78af-4335-d86c-bdc90c4beb5f",
        "colab": {
          "base_uri": "https://localhost:8080/",
          "height": 34
        }
      },
      "cell_type": "code",
      "source": [
        "x = m[1]\n",
        "y = m[0]\n",
        "            \n",
        "print auc(x, y)"
      ],
      "execution_count": 0,
      "outputs": [
        {
          "output_type": "stream",
          "text": [
            "0.2444248351850238\n"
          ],
          "name": "stdout"
        }
      ]
    },
    {
      "metadata": {
        "id": "Un1QncgzT9uQ",
        "colab_type": "code",
        "outputId": "77315a32-2040-492f-9f06-1dcac702096c",
        "colab": {
          "base_uri": "https://localhost:8080/",
          "height": 34
        }
      },
      "cell_type": "code",
      "source": [
        "x_1 = m_1[1]\n",
        "y_1 = m_1[0]\n",
        "print auc(x_1, y_1)"
      ],
      "execution_count": 0,
      "outputs": [
        {
          "output_type": "stream",
          "text": [
            "0.09929812958033951\n"
          ],
          "name": "stdout"
        }
      ]
    },
    {
      "metadata": {
        "id": "PJGC3RmERXOP",
        "colab_type": "code",
        "outputId": "290b2804-e3ce-44cb-ea95-f5cf41aa8626",
        "colab": {
          "base_uri": "https://localhost:8080/",
          "height": 688
        }
      },
      "cell_type": "code",
      "source": [
        "import matplotlib.pyplot as plt\n",
        "fig = plt.figure(figsize=(8, 8))\n",
        "ax = fig.add_subplot(111)\n",
        "xlabel = 'Recall'\n",
        "ylabel = 'Precision'\n",
        "ax.plot(x, y, lw=3, color='k', label='AUC: %.4f' % ( auc(x, y)))\n",
        "\n",
        "ax.set_xlabel(xlabel, fontsize=14)\n",
        "ax.set_ylabel(ylabel, fontsize=14)\n",
        "\n",
        "ax.legend(loc='best', fontsize=10)\n",
        "ax.set_xlim(-0.05, 1.05)\n",
        "ax.set_ylim(-0.05, 1.05)\n",
        "ax.set_xticks(np.linspace(0, 1, 11))\n",
        "ax.set_yticks(np.linspace(0, 1, 11))"
      ],
      "execution_count": 0,
      "outputs": [
        {
          "output_type": "execute_result",
          "data": {
            "text/plain": [
              "[<matplotlib.axis.YTick at 0x7fdfcd392710>,\n",
              " <matplotlib.axis.YTick at 0x7fdfcd3924d0>,\n",
              " <matplotlib.axis.YTick at 0x7fdfc7437710>,\n",
              " <matplotlib.axis.YTick at 0x7fdfc7437bd0>,\n",
              " <matplotlib.axis.YTick at 0x7fdfc74420d0>,\n",
              " <matplotlib.axis.YTick at 0x7fdfc7442590>,\n",
              " <matplotlib.axis.YTick at 0x7fdfc7437050>,\n",
              " <matplotlib.axis.YTick at 0x7fdfcd330b50>,\n",
              " <matplotlib.axis.YTick at 0x7fdfc7442ad0>,\n",
              " <matplotlib.axis.YTick at 0x7fdfc7442f90>,\n",
              " <matplotlib.axis.YTick at 0x7fdfc744d490>]"
            ]
          },
          "metadata": {
            "tags": []
          },
          "execution_count": 206
        },
        {
          "output_type": "display_data",
          "data": {
            "image/png": "[encoded data removed]",
            "text/plain": [
              "<matplotlib.figure.Figure at 0x7fdfcd32d750>"
            ]
          },
          "metadata": {
            "tags": []
          }
        }
      ]
    },
    {
      "metadata": {
        "id": "XCpiAM0DRmXx",
        "colab_type": "code",
        "outputId": "116ec1bd-1d4f-4ef2-c437-aa8216de5ad4",
        "colab": {
          "base_uri": "https://localhost:8080/",
          "height": 688
        }
      },
      "cell_type": "code",
      "source": [
        "pred_1_class = pred[:,1] + pred[:,3]\n",
        "pred_1_class_list = list(pred_1_class)\n",
        "yLabels_filtered_1_class = [1 if ((t == 1) or (t == 3)) else 0 for t in yLabels_filtered[-10000:]]\n",
        "m_1 = precision_recall_curve(yLabels_filtered_1_class, pred_1_class_list)\n",
        "x_1 = m_1[1]\n",
        "y_1 = m_1[0]\n",
        "\n",
        "import matplotlib.pyplot as plt\n",
        "fig = plt.figure(figsize=(8, 8))\n",
        "ax = fig.add_subplot(111)\n",
        "xlabel = 'Recall'\n",
        "ylabel = 'Precision'\n",
        "ax.plot(x_1, y_1, lw=3, color='k', label='AUC: %.4f' % ( auc(x_1, y_1)))\n",
        "\n",
        "ax.set_xlabel(xlabel, fontsize=14)\n",
        "ax.set_ylabel(ylabel, fontsize=14)\n",
        "\n",
        "ax.legend(loc='best', fontsize=10)\n",
        "ax.set_xlim(-0.05, 1.05)\n",
        "ax.set_ylim(-0.05, 1.05)\n",
        "ax.set_xticks(np.linspace(0, 1, 11))\n",
        "ax.set_yticks(np.linspace(0, 1, 11))"
      ],
      "execution_count": 0,
      "outputs": [
        {
          "output_type": "execute_result",
          "data": {
            "text/plain": [
              "[<matplotlib.axis.YTick at 0x7fdfc7260ad0>,\n",
              " <matplotlib.axis.YTick at 0x7fdfc7260890>,\n",
              " <matplotlib.axis.YTick at 0x7fdfc7150650>,\n",
              " <matplotlib.axis.YTick at 0x7fdfc7150b10>,\n",
              " <matplotlib.axis.YTick at 0x7fdfc7150fd0>,\n",
              " <matplotlib.axis.YTick at 0x7fdfc7144690>,\n",
              " <matplotlib.axis.YTick at 0x7fdfc7139850>,\n",
              " <matplotlib.axis.YTick at 0x7fdfc7158550>,\n",
              " <matplotlib.axis.YTick at 0x7fdfc7158a10>,\n",
              " <matplotlib.axis.YTick at 0x7fdfc7158ed0>,\n",
              " <matplotlib.axis.YTick at 0x7fdfc71613d0>]"
            ]
          },
          "metadata": {
            "tags": []
          },
          "execution_count": 212
        },
        {
          "output_type": "display_data",
          "data": {
            "image/png": "[encoded data removed]",
            "text/plain": [
              "<matplotlib.figure.Figure at 0x7fdfc7215e10>"
            ]
          },
          "metadata": {
            "tags": []
          }
        }
      ]
    },
    {
      "metadata": {
        "id": "eJ7PfTy7UGfd",
        "colab_type": "code",
        "outputId": "9e5f5e93-2ce6-4475-c44f-05b26dce9b32",
        "colab": {
          "base_uri": "https://localhost:8080/",
          "height": 688
        }
      },
      "cell_type": "code",
      "source": [
        "pred_2_class = pred[:,2] + pred[:,3]\n",
        "pred_2_class_list = list(pred_2_class)\n",
        "yLabels_filtered_2_class = [1 if ((t == 2) or (t == 3))  else 0 for t in yLabels_filtered[-10000:]]\n",
        "m_2 = precision_recall_curve(yLabels_filtered_2_class, pred_2_class_list)\n",
        "x_2 = m_2[1]\n",
        "y_2 = m_2[0]\n",
        "\n",
        "fig = plt.figure(figsize=(8, 8))\n",
        "ax = fig.add_subplot(111)\n",
        "xlabel = 'Recall'\n",
        "ylabel = 'Precision'\n",
        "ax.plot(x_2, y_2, lw=3, color='k', label='AUC: %.4f' % ( auc(x_2, y_2)))\n",
        "\n",
        "ax.set_xlabel(xlabel, fontsize=14)\n",
        "ax.set_ylabel(ylabel, fontsize=14)\n",
        "\n",
        "ax.legend(loc='best', fontsize=10)\n",
        "ax.set_xlim(-0.05, 1.05)\n",
        "ax.set_ylim(-0.05, 1.05)\n",
        "ax.set_xticks(np.linspace(0, 1, 11))\n",
        "ax.set_yticks(np.linspace(0, 1, 11))"
      ],
      "execution_count": 0,
      "outputs": [
        {
          "output_type": "execute_result",
          "data": {
            "text/plain": [
              "[<matplotlib.axis.YTick at 0x7fdfc70cca90>,\n",
              " <matplotlib.axis.YTick at 0x7fdfc70fed90>,\n",
              " <matplotlib.axis.YTick at 0x7fdfc7067310>,\n",
              " <matplotlib.axis.YTick at 0x7fdfc70677d0>,\n",
              " <matplotlib.axis.YTick at 0x7fdfc7067c90>,\n",
              " <matplotlib.axis.YTick at 0x7fdfc7072190>,\n",
              " <matplotlib.axis.YTick at 0x7fdfc7072650>,\n",
              " <matplotlib.axis.YTick at 0x7fdfc7352c10>,\n",
              " <matplotlib.axis.YTick at 0x7fdfc7347d90>,\n",
              " <matplotlib.axis.YTick at 0x7fdfc7072e90>,\n",
              " <matplotlib.axis.YTick at 0x7fdfc707d390>]"
            ]
          },
          "metadata": {
            "tags": []
          },
          "execution_count": 213
        },
        {
          "output_type": "display_data",
          "data": {
            "image/png": "[encoded data removed]",
            "text/plain": [
              "<matplotlib.figure.Figure at 0x7fdfc712ff10>"
            ]
          },
          "metadata": {
            "tags": []
          }
        }
      ]
    },
    {
      "metadata": {
        "id": "Qc4cmkpDV9iQ",
        "colab_type": "code",
        "outputId": "6f480f42-7473-4aeb-c88d-dcc9627b96f2",
        "colab": {
          "base_uri": "https://localhost:8080/",
          "height": 688
        }
      },
      "cell_type": "code",
      "source": [
        "pred_3_class = pred[:,3]\n",
        "pred_3_class_list = list(pred_3_class)\n",
        "yLabels_filtered_3_class = [1 if t == 3 else 0 for t in yLabels_filtered[-10000:]]\n",
        "m_3 = precision_recall_curve(yLabels_filtered_3_class, pred_3_class_list)\n",
        "x_3 = m_3[1]\n",
        "y_3 = m_3[0]\n",
        "\n",
        "fig = plt.figure(figsize=(8, 8))\n",
        "ax = fig.add_subplot(111)\n",
        "xlabel = 'Recall'\n",
        "ylabel = 'Precision'\n",
        "ax.plot(x_3, y_3, lw=3, color='k', label='AUC: %.4f' % ( auc(x_3, y_3)))\n",
        "\n",
        "ax.set_xlabel(xlabel, fontsize=14)\n",
        "ax.set_ylabel(ylabel, fontsize=14)\n",
        "\n",
        "ax.legend(loc='best', fontsize=10)\n",
        "ax.set_xlim(-0.05, 1.05)\n",
        "ax.set_ylim(-0.05, 1.05)\n",
        "ax.set_xticks(np.linspace(0, 1, 11))\n",
        "ax.set_yticks(np.linspace(0, 1, 11))"
      ],
      "execution_count": 0,
      "outputs": [
        {
          "output_type": "execute_result",
          "data": {
            "text/plain": [
              "[<matplotlib.axis.YTick at 0x7fdfc7267750>,\n",
              " <matplotlib.axis.YTick at 0x7fdfc7094750>,\n",
              " <matplotlib.axis.YTick at 0x7fdfc6ffe350>,\n",
              " <matplotlib.axis.YTick at 0x7fdfc6ffe810>,\n",
              " <matplotlib.axis.YTick at 0x7fdfc6ffecd0>,\n",
              " <matplotlib.axis.YTick at 0x7fdfc70071d0>,\n",
              " <matplotlib.axis.YTick at 0x7fdfc7007690>,\n",
              " <matplotlib.axis.YTick at 0x7fdfc6ff4c50>,\n",
              " <matplotlib.axis.YTick at 0x7fdfc6fe8dd0>,\n",
              " <matplotlib.axis.YTick at 0x7fdfc7007ed0>,\n",
              " <matplotlib.axis.YTick at 0x7fdfc70133d0>]"
            ]
          },
          "metadata": {
            "tags": []
          },
          "execution_count": 214
        },
        {
          "output_type": "display_data",
          "data": {
            "image/png": "[encoded data removed]",
            "text/plain": [
              "<matplotlib.figure.Figure at 0x7fdfc7347610>"
            ]
          },
          "metadata": {
            "tags": []
          }
        }
      ]
    },
    {
      "metadata": {
        "id": "FBcMaFRUWFnC",
        "colab_type": "code",
        "outputId": "3528b44c-f9dd-442f-b5af-80a58d7c5a6b",
        "colab": {
          "base_uri": "https://localhost:8080/",
          "height": 164
        }
      },
      "cell_type": "code",
      "source": [
        ""
      ],
      "execution_count": 0,
      "outputs": [
        {
          "output_type": "error",
          "ename": "NameError",
          "evalue": "ignored",
          "traceback": [
            "\u001b[0;31m\u001b[0m",
            "\u001b[0;31mNameError\u001b[0mTraceback (most recent call last)",
            "\u001b[0;32m<ipython-input-1-1d441161e1b0>\u001b[0m in \u001b[0;36m<module>\u001b[0;34m()\u001b[0m\n\u001b[0;32m----> 1\u001b[0;31m \u001b[0mpred_2_class\u001b[0m\u001b[0;34m\u001b[0m\u001b[0m\n\u001b[0m",
            "\u001b[0;31mNameError\u001b[0m: name 'pred_2_class' is not defined"
          ]
        }
      ]
    },
    {
      "metadata": {
        "id": "e2KApTAMcipI",
        "colab_type": "code",
        "colab": {}
      },
      "cell_type": "code",
      "source": [
        ""
      ],
      "execution_count": 0,
      "outputs": []
    }
  ]
}